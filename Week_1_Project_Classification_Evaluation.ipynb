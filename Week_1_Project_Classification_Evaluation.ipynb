{
  "nbformat": 4,
  "nbformat_minor": 0,
  "metadata": {
    "colab": {
      "name": "ROC_MC.ipynb",
      "version": "0.3.2",
      "provenance": [],
      "include_colab_link": true
    },
    "kernelspec": {
      "name": "python3",
      "display_name": "Python 3"
    }
  },
  "cells": [
    {
      "cell_type": "markdown",
      "metadata": {
        "id": "view-in-github",
        "colab_type": "text"
      },
      "source": [
        "<a href=\"https://colab.research.google.com/github/elyselee/Launch-Bootcamp-/blob/master/ROC_MC.ipynb\" target=\"_parent\"><img src=\"https://colab.research.google.com/assets/colab-badge.svg\" alt=\"Open In Colab\"/></a>"
      ]
    },
    {
      "cell_type": "code",
      "metadata": {
        "id": "_ijHnzGs3arZ",
        "colab_type": "code",
        "colab": {}
      },
      "source": [
        "import numpy as np\n",
        "import pandas as pd\n",
        "import matplotlib.pyplot as plt \n",
        "import seaborn as sn\n",
        "import plotly\n",
        "from sklearn.linear_model import LogisticRegression"
      ],
      "execution_count": 0,
      "outputs": []
    },
    {
      "cell_type": "code",
      "metadata": {
        "id": "cfGVVzcJgqZ2",
        "colab_type": "code",
        "outputId": "77f5b049-20f0-487f-e621-400969447ecb",
        "colab": {
          "base_uri": "https://localhost:8080/",
          "height": 532
        }
      },
      "source": [
        "#Confusion Matrix Heatmap basic example 2 classes\n",
        "exdata = {'ypredicted': [0,1,1,0,0,0,1,0,1,0,1,1,1,1], 'yactual':[1,0,1,1,1,1,0,0,1,0,1,0,0,0]}\n",
        "exdf = pd.DataFrame(exdata, columns=['yactual','ypredicted'])\n",
        "confusionmatrix = pd.crosstab(exdf['yactual'], exdf['ypredicted'], rownames=['Actual'], colnames=['Predicted']) #can add ,margins=True for total\n",
        "plt.figure(figsize=(10, 8))\n",
        "sn.heatmap(confusionmatrix, annot=True, cmap='Blues')\n",
        "plt.title('Confusion Matrix', size=15)"
      ],
      "execution_count": 15,
      "outputs": [
        {
          "output_type": "execute_result",
          "data": {
            "text/plain": [
              "Text(0.5, 1.0, 'Confusion Matrix')"
            ]
          },
          "metadata": {
            "tags": []
          },
          "execution_count": 15
        },
        {
          "output_type": "display_data",
          "data": {
            "image/png": "[encoded data removed]",
            "text/plain": [
              "<Figure size 720x576 with 2 Axes>"
            ]
          },
          "metadata": {
            "tags": []
          }
        }
      ]
    },
    {
      "cell_type": "code",
      "metadata": {
        "colab_type": "code",
        "id": "4mAbK-Trg8gD",
        "outputId": "d798021e-7fe5-4aac-aba0-484721af0c4d",
        "colab": {
          "base_uri": "https://localhost:8080/",
          "height": 224
        }
      },
      "source": [
        "!pip install pandas_ml"
      ],
      "execution_count": 6,
      "outputs": [
        {
          "output_type": "stream",
          "text": [
            "Collecting pandas_ml\n",
            "\u001b[?25l  Downloading https://files.pythonhosted.org/packages/ae/72/6d90debfcb9ea74ec00927fa7ed0204dcc560b1f9ffcd8b239daa7fd106d/pandas_ml-0.6.1-py3-none-any.whl (100kB)\n",
            "\u001b[K     |████████████████████████████████| 102kB 4.7MB/s \n",
            "\u001b[?25hRequirement already satisfied: pandas>=0.19.0 in /usr/local/lib/python3.6/dist-packages (from pandas_ml) (0.24.2)\n",
            "Requirement already satisfied: enum34 in /usr/local/lib/python3.6/dist-packages (from pandas_ml) (1.1.6)\n",
            "Requirement already satisfied: pytz>=2011k in /usr/local/lib/python3.6/dist-packages (from pandas>=0.19.0->pandas_ml) (2018.9)\n",
            "Requirement already satisfied: python-dateutil>=2.5.0 in /usr/local/lib/python3.6/dist-packages (from pandas>=0.19.0->pandas_ml) (2.5.3)\n",
            "Requirement already satisfied: numpy>=1.12.0 in /usr/local/lib/python3.6/dist-packages (from pandas>=0.19.0->pandas_ml) (1.16.3)\n",
            "Requirement already satisfied: six>=1.5 in /usr/local/lib/python3.6/dist-packages (from python-dateutil>=2.5.0->pandas>=0.19.0->pandas_ml) (1.12.0)\n",
            "Installing collected packages: pandas-ml\n",
            "Successfully installed pandas-ml-0.6.1\n"
          ],
          "name": "stdout"
        }
      ]
    },
    {
      "cell_type": "code",
      "metadata": {
        "colab_type": "code",
        "id": "D0kuHLNgg8gI",
        "outputId": "69a0cc9b-09da-49ed-9a73-c0c9894ad7bd",
        "colab": {
          "base_uri": "https://localhost:8080/",
          "height": 547
        }
      },
      "source": [
        "#Confusion Matrix Stats \n",
        "from pandas_ml import ConfusionMatrix\n",
        "exdata = {'ypredicted': [0,1,1,0,0,0,1,0,1,0,1,1,1,1], 'yactual':[1,0,1,1,1,1,0,0,1,0,1,0,0,0]}\n",
        "cm = ConfusionMatrix(exdata['yactual'], exdata['ypredicted'])\n",
        "cm.print_stats()"
      ],
      "execution_count": 7,
      "outputs": [
        {
          "output_type": "stream",
          "text": [
            "/usr/local/lib/python3.6/dist-packages/sklearn/externals/six.py:31: DeprecationWarning:\n",
            "\n",
            "The module is deprecated in version 0.21 and will be removed in version 0.23 since we've dropped support for Python 2.7. Please rely on the official version of six (https://pypi.org/project/six/).\n",
            "\n"
          ],
          "name": "stderr"
        },
        {
          "output_type": "stream",
          "text": [
            "population: 14\n",
            "P: 7\n",
            "N: 7\n",
            "PositiveTest: 8\n",
            "NegativeTest: 6\n",
            "TP: 3\n",
            "TN: 2\n",
            "FP: 5\n",
            "FN: 4\n",
            "TPR: 0.42857142857142855\n",
            "TNR: 0.2857142857142857\n",
            "PPV: 0.375\n",
            "NPV: 0.3333333333333333\n",
            "FPR: 0.7142857142857143\n",
            "FDR: 0.625\n",
            "FNR: 0.5714285714285714\n",
            "ACC: 0.35714285714285715\n",
            "F1_score: 0.4\n",
            "MCC: -0.28867513459481287\n",
            "informedness: -0.2857142857142858\n",
            "markedness: -0.29166666666666674\n",
            "prevalence: 0.5\n",
            "LRP: 0.6\n",
            "LRN: 2.0\n",
            "DOR: 0.3\n",
            "FOR: 0.6666666666666666\n"
          ],
          "name": "stdout"
        }
      ]
    },
    {
      "cell_type": "code",
      "metadata": {
        "colab_type": "code",
        "id": "kPViXHD-g8gL",
        "colab": {
          "resources": {
            "http://localhost:8080/nbextensions/google.colab/files.js": {
              "data": "Ly8gQ29weXJpZ2h0IDIwMTcgR29vZ2xlIExMQwovLwovLyBMaWNlbnNlZCB1bmRlciB0aGUgQXBhY2hlIExpY2Vuc2UsIFZlcnNpb24gMi4wICh0aGUgIkxpY2Vuc2UiKTsKLy8geW91IG1heSBub3QgdXNlIHRoaXMgZmlsZSBleGNlcHQgaW4gY29tcGxpYW5jZSB3aXRoIHRoZSBMaWNlbnNlLgovLyBZb3UgbWF5IG9idGFpbiBhIGNvcHkgb2YgdGhlIExpY2Vuc2UgYXQKLy8KLy8gICAgICBodHRwOi8vd3d3LmFwYWNoZS5vcmcvbGljZW5zZXMvTElDRU5TRS0yLjAKLy8KLy8gVW5sZXNzIHJlcXVpcmVkIGJ5IGFwcGxpY2FibGUgbGF3IG9yIGFncmVlZCB0byBpbiB3cml0aW5nLCBzb2Z0d2FyZQovLyBkaXN0cmlidXRlZCB1bmRlciB0aGUgTGljZW5zZSBpcyBkaXN0cmlidXRlZCBvbiBhbiAiQVMgSVMiIEJBU0lTLAovLyBXSVRIT1VUIFdBUlJBTlRJRVMgT1IgQ09ORElUSU9OUyBPRiBBTlkgS0lORCwgZWl0aGVyIGV4cHJlc3Mgb3IgaW1wbGllZC4KLy8gU2VlIHRoZSBMaWNlbnNlIGZvciB0aGUgc3BlY2lmaWMgbGFuZ3VhZ2UgZ292ZXJuaW5nIHBlcm1pc3Npb25zIGFuZAovLyBsaW1pdGF0aW9ucyB1bmRlciB0aGUgTGljZW5zZS4KCi8qKgogKiBAZmlsZW92ZXJ2aWV3IEhlbHBlcnMgZm9yIGdvb2dsZS5jb2xhYiBQeXRob24gbW9kdWxlLgogKi8KKGZ1bmN0aW9uKHNjb3BlKSB7CmZ1bmN0aW9uIHNwYW4odGV4dCwgc3R5bGVBdHRyaWJ1dGVzID0ge30pIHsKICBjb25zdCBlbGVtZW50ID0gZG9jdW1lbnQuY3JlYXRlRWxlbWVudCgnc3BhbicpOwogIGVsZW1lbnQudGV4dENvbnRlbnQgPSB0ZXh0OwogIGZvciAoY29uc3Qga2V5IG9mIE9iamVjdC5rZXlzKHN0eWxlQXR0cmlidXRlcykpIHsKICAgIGVsZW1lbnQuc3R5bGVba2V5XSA9IHN0eWxlQXR0cmlidXRlc1trZXldOwogIH0KICByZXR1cm4gZWxlbWVudDsKfQoKLy8gTWF4IG51bWJlciBvZiBieXRlcyB3aGljaCB3aWxsIGJlIHVwbG9hZGVkIGF0IGEgdGltZS4KY29uc3QgTUFYX1BBWUxPQURfU0laRSA9IDEwMCAqIDEwMjQ7Ci8vIE1heCBhbW91bnQgb2YgdGltZSB0byBibG9jayB3YWl0aW5nIGZvciB0aGUgdXNlci4KY29uc3QgRklMRV9DSEFOR0VfVElNRU9VVF9NUyA9IDMwICogMTAwMDsKCmZ1bmN0aW9uIF91cGxvYWRGaWxlcyhpbnB1dElkLCBvdXRwdXRJZCkgewogIGNvbnN0IHN0ZXBzID0gdXBsb2FkRmlsZXNTdGVwKGlucHV0SWQsIG91dHB1dElkKTsKICBjb25zdCBvdXRwdXRFbGVtZW50ID0gZG9jdW1lbnQuZ2V0RWxlbWVudEJ5SWQob3V0cHV0SWQpOwogIC8vIENhY2hlIHN0ZXBzIG9uIHRoZSBvdXRwdXRFbGVtZW50IHRvIG1ha2UgaXQgYXZhaWxhYmxlIGZvciB0aGUgbmV4dCBjYWxsCiAgLy8gdG8gdXBsb2FkRmlsZXNDb250aW51ZSBmcm9tIFB5dGhvbi4KICBvdXRwdXRFbGVtZW50LnN0ZXBzID0gc3RlcHM7CgogIHJldHVybiBfdXBsb2FkRmlsZXNDb250aW51ZShvdXRwdXRJZCk7Cn0KCi8vIFRoaXMgaXMgcm91Z2hseSBhbiBhc3luYyBnZW5lcmF0b3IgKG5vdCBzdXBwb3J0ZWQgaW4gdGhlIGJyb3dzZXIgeWV0KSwKLy8gd2hlcmUgdGhlcmUgYXJlIG11bHRpcGxlIGFzeW5jaHJvbm91cyBzdGVwcyBhbmQgdGhlIFB5dGhvbiBzaWRlIGlzIGdvaW5nCi8vIHRvIHBvbGwgZm9yIGNvbXBsZXRpb24gb2YgZWFjaCBzdGVwLgovLyBUaGlzIHVzZXMgYSBQcm9taXNlIHRvIGJsb2NrIHRoZSBweXRob24gc2lkZSBvbiBjb21wbGV0aW9uIG9mIGVhY2ggc3RlcCwKLy8gdGhlbiBwYXNzZXMgdGhlIHJlc3VsdCBvZiB0aGUgcHJldmlvdXMgc3RlcCBhcyB0aGUgaW5wdXQgdG8gdGhlIG5leHQgc3RlcC4KZnVuY3Rpb24gX3VwbG9hZEZpbGVzQ29udGludWUob3V0cHV0SWQpIHsKICBjb25zdCBvdXRwdXRFbGVtZW50ID0gZG9jdW1lbnQuZ2V0RWxlbWVudEJ5SWQob3V0cHV0SWQpOwogIGNvbnN0IHN0ZXBzID0gb3V0cHV0RWxlbWVudC5zdGVwczsKCiAgY29uc3QgbmV4dCA9IHN0ZXBzLm5leHQob3V0cHV0RWxlbWVudC5sYXN0UHJvbWlzZVZhbHVlKTsKICByZXR1cm4gUHJvbWlzZS5yZXNvbHZlKG5leHQudmFsdWUucHJvbWlzZSkudGhlbigodmFsdWUpID0+IHsKICAgIC8vIENhY2hlIHRoZSBsYXN0IHByb21pc2UgdmFsdWUgdG8gbWFrZSBpdCBhdmFpbGFibGUgdG8gdGhlIG5leHQKICAgIC8vIHN0ZXAgb2YgdGhlIGdlbmVyYXRvci4KICAgIG91dHB1dEVsZW1lbnQubGFzdFByb21pc2VWYWx1ZSA9IHZhbHVlOwogICAgcmV0dXJuIG5leHQudmFsdWUucmVzcG9uc2U7CiAgfSk7Cn0KCi8qKgogKiBHZW5lcmF0b3IgZnVuY3Rpb24gd2hpY2ggaXMgY2FsbGVkIGJldHdlZW4gZWFjaCBhc3luYyBzdGVwIG9mIHRoZSB1cGxvYWQKICogcHJvY2Vzcy4KICogQHBhcmFtIHtzdHJpbmd9IGlucHV0SWQgRWxlbWVudCBJRCBvZiB0aGUgaW5wdXQgZmlsZSBwaWNrZXIgZWxlbWVudC4KICogQHBhcmFtIHtzdHJpbmd9IG91dHB1dElkIEVsZW1lbnQgSUQgb2YgdGhlIG91dHB1dCBkaXNwbGF5LgogKiBAcmV0dXJuIHshSXRlcmFibGU8IU9iamVjdD59IEl0ZXJhYmxlIG9mIG5leHQgc3RlcHMuCiAqLwpmdW5jdGlvbiogdXBsb2FkRmlsZXNTdGVwKGlucHV0SWQsIG91dHB1dElkKSB7CiAgY29uc3QgaW5wdXRFbGVtZW50ID0gZG9jdW1lbnQuZ2V0RWxlbWVudEJ5SWQoaW5wdXRJZCk7CiAgaW5wdXRFbGVtZW50LmRpc2FibGVkID0gZmFsc2U7CgogIGNvbnN0IG91dHB1dEVsZW1lbnQgPSBkb2N1bWVudC5nZXRFbGVtZW50QnlJZChvdXRwdXRJZCk7CiAgb3V0cHV0RWxlbWVudC5pbm5lckhUTUwgPSAnJzsKCiAgY29uc3QgcGlja2VkUHJvbWlzZSA9IG5ldyBQcm9taXNlKChyZXNvbHZlKSA9PiB7CiAgICBpbnB1dEVsZW1lbnQuYWRkRXZlbnRMaXN0ZW5lcignY2hhbmdlJywgKGUpID0+IHsKICAgICAgcmVzb2x2ZShlLnRhcmdldC5maWxlcyk7CiAgICB9KTsKICB9KTsKCiAgY29uc3QgY2FuY2VsID0gZG9jdW1lbnQuY3JlYXRlRWxlbWVudCgnYnV0dG9uJyk7CiAgaW5wdXRFbGVtZW50LnBhcmVudEVsZW1lbnQuYXBwZW5kQ2hpbGQoY2FuY2VsKTsKICBjYW5jZWwudGV4dENvbnRlbnQgPSAnQ2FuY2VsIHVwbG9hZCc7CiAgY29uc3QgY2FuY2VsUHJvbWlzZSA9IG5ldyBQcm9taXNlKChyZXNvbHZlKSA9PiB7CiAgICBjYW5jZWwub25jbGljayA9ICgpID0+IHsKICAgICAgcmVzb2x2ZShudWxsKTsKICAgIH07CiAgfSk7CgogIC8vIENhbmNlbCB1cGxvYWQgaWYgdXNlciBoYXNuJ3QgcGlja2VkIGFueXRoaW5nIGluIHRpbWVvdXQuCiAgY29uc3QgdGltZW91dFByb21pc2UgPSBuZXcgUHJvbWlzZSgocmVzb2x2ZSkgPT4gewogICAgc2V0VGltZW91dCgoKSA9PiB7CiAgICAgIHJlc29sdmUobnVsbCk7CiAgICB9LCBGSUxFX0NIQU5HRV9USU1FT1VUX01TKTsKICB9KTsKCiAgLy8gV2FpdCBmb3IgdGhlIHVzZXIgdG8gcGljayB0aGUgZmlsZXMuCiAgY29uc3QgZmlsZXMgPSB5aWVsZCB7CiAgICBwcm9taXNlOiBQcm9taXNlLnJhY2UoW3BpY2tlZFByb21pc2UsIHRpbWVvdXRQcm9taXNlLCBjYW5jZWxQcm9taXNlXSksCiAgICByZXNwb25zZTogewogICAgICBhY3Rpb246ICdzdGFydGluZycsCiAgICB9CiAgfTsKCiAgaWYgKCFmaWxlcykgewogICAgcmV0dXJuIHsKICAgICAgcmVzcG9uc2U6IHsKICAgICAgICBhY3Rpb246ICdjb21wbGV0ZScsCiAgICAgIH0KICAgIH07CiAgfQoKICBjYW5jZWwucmVtb3ZlKCk7CgogIC8vIERpc2FibGUgdGhlIGlucHV0IGVsZW1lbnQgc2luY2UgZnVydGhlciBwaWNrcyBhcmUgbm90IGFsbG93ZWQuCiAgaW5wdXRFbGVtZW50LmRpc2FibGVkID0gdHJ1ZTsKCiAgZm9yIChjb25zdCBmaWxlIG9mIGZpbGVzKSB7CiAgICBjb25zdCBsaSA9IGRvY3VtZW50LmNyZWF0ZUVsZW1lbnQoJ2xpJyk7CiAgICBsaS5hcHBlbmQoc3BhbihmaWxlLm5hbWUsIHtmb250V2VpZ2h0OiAnYm9sZCd9KSk7CiAgICBsaS5hcHBlbmQoc3BhbigKICAgICAgICBgKCR7ZmlsZS50eXBlIHx8ICduL2EnfSkgLSAke2ZpbGUuc2l6ZX0gYnl0ZXMsIGAgKwogICAgICAgIGBsYXN0IG1vZGlmaWVkOiAkewogICAgICAgICAgICBmaWxlLmxhc3RNb2RpZmllZERhdGUgPyBmaWxlLmxhc3RNb2RpZmllZERhdGUudG9Mb2NhbGVEYXRlU3RyaW5nKCkgOgogICAgICAgICAgICAgICAgICAgICAgICAgICAgICAgICAgICAnbi9hJ30gLSBgKSk7CiAgICBjb25zdCBwZXJjZW50ID0gc3BhbignMCUgZG9uZScpOwogICAgbGkuYXBwZW5kQ2hpbGQocGVyY2VudCk7CgogICAgb3V0cHV0RWxlbWVudC5hcHBlbmRDaGlsZChsaSk7CgogICAgY29uc3QgZmlsZURhdGFQcm9taXNlID0gbmV3IFByb21pc2UoKHJlc29sdmUpID0+IHsKICAgICAgY29uc3QgcmVhZGVyID0gbmV3IEZpbGVSZWFkZXIoKTsKICAgICAgcmVhZGVyLm9ubG9hZCA9IChlKSA9PiB7CiAgICAgICAgcmVzb2x2ZShlLnRhcmdldC5yZXN1bHQpOwogICAgICB9OwogICAgICByZWFkZXIucmVhZEFzQXJyYXlCdWZmZXIoZmlsZSk7CiAgICB9KTsKICAgIC8vIFdhaXQgZm9yIHRoZSBkYXRhIHRvIGJlIHJlYWR5LgogICAgbGV0IGZpbGVEYXRhID0geWllbGQgewogICAgICBwcm9taXNlOiBmaWxlRGF0YVByb21pc2UsCiAgICAgIHJlc3BvbnNlOiB7CiAgICAgICAgYWN0aW9uOiAnY29udGludWUnLAogICAgICB9CiAgICB9OwoKICAgIC8vIFVzZSBhIGNodW5rZWQgc2VuZGluZyB0byBhdm9pZCBtZXNzYWdlIHNpemUgbGltaXRzLiBTZWUgYi82MjExNTY2MC4KICAgIGxldCBwb3NpdGlvbiA9IDA7CiAgICB3aGlsZSAocG9zaXRpb24gPCBmaWxlRGF0YS5ieXRlTGVuZ3RoKSB7CiAgICAgIGNvbnN0IGxlbmd0aCA9IE1hdGgubWluKGZpbGVEYXRhLmJ5dGVMZW5ndGggLSBwb3NpdGlvbiwgTUFYX1BBWUxPQURfU0laRSk7CiAgICAgIGNvbnN0IGNodW5rID0gbmV3IFVpbnQ4QXJyYXkoZmlsZURhdGEsIHBvc2l0aW9uLCBsZW5ndGgpOwogICAgICBwb3NpdGlvbiArPSBsZW5ndGg7CgogICAgICBjb25zdCBiYXNlNjQgPSBidG9hKFN0cmluZy5mcm9tQ2hhckNvZGUuYXBwbHkobnVsbCwgY2h1bmspKTsKICAgICAgeWllbGQgewogICAgICAgIHJlc3BvbnNlOiB7CiAgICAgICAgICBhY3Rpb246ICdhcHBlbmQnLAogICAgICAgICAgZmlsZTogZmlsZS5uYW1lLAogICAgICAgICAgZGF0YTogYmFzZTY0LAogICAgICAgIH0sCiAgICAgIH07CiAgICAgIHBlcmNlbnQudGV4dENvbnRlbnQgPQogICAgICAgICAgYCR7TWF0aC5yb3VuZCgocG9zaXRpb24gLyBmaWxlRGF0YS5ieXRlTGVuZ3RoKSAqIDEwMCl9JSBkb25lYDsKICAgIH0KICB9CgogIC8vIEFsbCBkb25lLgogIHlpZWxkIHsKICAgIHJlc3BvbnNlOiB7CiAgICAgIGFjdGlvbjogJ2NvbXBsZXRlJywKICAgIH0KICB9Owp9CgpzY29wZS5nb29nbGUgPSBzY29wZS5nb29nbGUgfHwge307CnNjb3BlLmdvb2dsZS5jb2xhYiA9IHNjb3BlLmdvb2dsZS5jb2xhYiB8fCB7fTsKc2NvcGUuZ29vZ2xlLmNvbGFiLl9maWxlcyA9IHsKICBfdXBsb2FkRmlsZXMsCiAgX3VwbG9hZEZpbGVzQ29udGludWUsCn07Cn0pKHNlbGYpOwo=",
              "ok": true,
              "headers": [
                [
                  "content-type",
                  "application/javascript"
                ]
              ],
              "status": 200,
              "status_text": ""
            }
          },
          "base_uri": "https://localhost:8080/",
          "height": 71
        },
        "outputId": "c55d6bb6-9d33-44c3-9c38-02403f3e54ed"
      },
      "source": [
        "from google.colab import files\n",
        "uploaded = files.upload()\n",
        "\n",
        "#THIS RELIES ON MANUALLY UPLOADING THE IRIS DATASET - EASY TO FIND ONLINE"
      ],
      "execution_count": 1,
      "outputs": [
        {
          "output_type": "display_data",
          "data": {
            "text/html": [
              "\n",
              "     <input type=\"file\" id=\"files-2e94f886-8c43-4bd5-8693-e0eb6e9a5709\" name=\"files[]\" multiple disabled />\n",
              "     <output id=\"result-2e94f886-8c43-4bd5-8693-e0eb6e9a5709\">\n",
              "      Upload widget is only available when the cell has been executed in the\n",
              "      current browser session. Please rerun this cell to enable.\n",
              "      </output>\n",
              "      <script src=\"/nbextensions/google.colab/files.js\"></script> "
            ],
            "text/plain": [
              "<IPython.core.display.HTML object>"
            ]
          },
          "metadata": {
            "tags": []
          }
        },
        {
          "output_type": "stream",
          "text": [
            "Saving Iris.csv to Iris.csv\n"
          ],
          "name": "stdout"
        }
      ]
    },
    {
      "cell_type": "code",
      "metadata": {
        "colab_type": "code",
        "id": "fboSDmKNg8gP",
        "colab": {
          "base_uri": "https://localhost:8080/",
          "height": 204
        },
        "outputId": "b0ae65c8-bae7-447d-ef16-c429d50cf394"
      },
      "source": [
        "#Iris dataset \n",
        "iris=pd.read_csv('Iris.csv')\n",
        "iris.head()"
      ],
      "execution_count": 8,
      "outputs": [
        {
          "output_type": "execute_result",
          "data": {
            "text/html": [
              "<div>\n",
              "<style scoped>\n",
              "    .dataframe tbody tr th:only-of-type {\n",
              "        vertical-align: middle;\n",
              "    }\n",
              "\n",
              "    .dataframe tbody tr th {\n",
              "        vertical-align: top;\n",
              "    }\n",
              "\n",
              "    .dataframe thead th {\n",
              "        text-align: right;\n",
              "    }\n",
              "</style>\n",
              "<table border=\"1\" class=\"dataframe\">\n",
              "  <thead>\n",
              "    <tr style=\"text-align: right;\">\n",
              "      <th></th>\n",
              "      <th>Id</th>\n",
              "      <th>SepalLengthCm</th>\n",
              "      <th>SepalWidthCm</th>\n",
              "      <th>PetalLengthCm</th>\n",
              "      <th>PetalWidthCm</th>\n",
              "      <th>Species</th>\n",
              "    </tr>\n",
              "  </thead>\n",
              "  <tbody>\n",
              "    <tr>\n",
              "      <th>0</th>\n",
              "      <td>1</td>\n",
              "      <td>5.1</td>\n",
              "      <td>3.5</td>\n",
              "      <td>1.4</td>\n",
              "      <td>0.2</td>\n",
              "      <td>Iris-setosa</td>\n",
              "    </tr>\n",
              "    <tr>\n",
              "      <th>1</th>\n",
              "      <td>2</td>\n",
              "      <td>4.9</td>\n",
              "      <td>3.0</td>\n",
              "      <td>1.4</td>\n",
              "      <td>0.2</td>\n",
              "      <td>Iris-setosa</td>\n",
              "    </tr>\n",
              "    <tr>\n",
              "      <th>2</th>\n",
              "      <td>3</td>\n",
              "      <td>4.7</td>\n",
              "      <td>3.2</td>\n",
              "      <td>1.3</td>\n",
              "      <td>0.2</td>\n",
              "      <td>Iris-setosa</td>\n",
              "    </tr>\n",
              "    <tr>\n",
              "      <th>3</th>\n",
              "      <td>4</td>\n",
              "      <td>4.6</td>\n",
              "      <td>3.1</td>\n",
              "      <td>1.5</td>\n",
              "      <td>0.2</td>\n",
              "      <td>Iris-setosa</td>\n",
              "    </tr>\n",
              "    <tr>\n",
              "      <th>4</th>\n",
              "      <td>5</td>\n",
              "      <td>5.0</td>\n",
              "      <td>3.6</td>\n",
              "      <td>1.4</td>\n",
              "      <td>0.2</td>\n",
              "      <td>Iris-setosa</td>\n",
              "    </tr>\n",
              "  </tbody>\n",
              "</table>\n",
              "</div>"
            ],
            "text/plain": [
              "   Id  SepalLengthCm  SepalWidthCm  PetalLengthCm  PetalWidthCm      Species\n",
              "0   1            5.1           3.5            1.4           0.2  Iris-setosa\n",
              "1   2            4.9           3.0            1.4           0.2  Iris-setosa\n",
              "2   3            4.7           3.2            1.3           0.2  Iris-setosa\n",
              "3   4            4.6           3.1            1.5           0.2  Iris-setosa\n",
              "4   5            5.0           3.6            1.4           0.2  Iris-setosa"
            ]
          },
          "metadata": {
            "tags": []
          },
          "execution_count": 8
        }
      ]
    },
    {
      "cell_type": "code",
      "metadata": {
        "colab_type": "code",
        "id": "IZjxuC_sg8gT",
        "colab": {}
      },
      "source": [
        "#Test train split\n",
        "from sklearn.model_selection import train_test_split\n",
        "x = iris.iloc[:,0:4].values\n",
        "y = iris.iloc[:,5].values\n",
        "#Encodes categorical data\n",
        "from sklearn.preprocessing import LabelEncoder\n",
        "labelencoder = LabelEncoder()\n",
        "y = labelencoder.fit_transform(y)\n",
        "xtrain, xtest, ytrain, ytest = train_test_split(x, y, test_size=0.2, random_state = 0)"
      ],
      "execution_count": 0,
      "outputs": []
    },
    {
      "cell_type": "code",
      "metadata": {
        "colab_type": "code",
        "id": "EOLoDIQag8gi",
        "colab": {
          "base_uri": "https://localhost:8080/",
          "height": 153
        },
        "outputId": "a4d5b7d4-39d0-451d-e099-1d2daa8f3ead"
      },
      "source": [
        "#Logistic regression\n",
        "from sklearn.linear_model import LogisticRegression\n",
        "logmodel = LogisticRegression()\n",
        "logmodel.fit(xtrain,ytrain)\n",
        "predictions = logmodel.predict(xtest)"
      ],
      "execution_count": 10,
      "outputs": [
        {
          "output_type": "stream",
          "text": [
            "/usr/local/lib/python3.6/dist-packages/sklearn/linear_model/logistic.py:432: FutureWarning:\n",
            "\n",
            "Default solver will be changed to 'lbfgs' in 0.22. Specify a solver to silence this warning.\n",
            "\n",
            "/usr/local/lib/python3.6/dist-packages/sklearn/linear_model/logistic.py:469: FutureWarning:\n",
            "\n",
            "Default multi_class will be changed to 'auto' in 0.22. Specify the multi_class option to silence this warning.\n",
            "\n"
          ],
          "name": "stderr"
        }
      ]
    },
    {
      "cell_type": "code",
      "metadata": {
        "colab_type": "code",
        "id": "THbcyqlyg8gn",
        "colab": {
          "base_uri": "https://localhost:8080/",
          "height": 315
        },
        "outputId": "1757a7cc-2a8b-4c1a-b73f-54162b77bd0d"
      },
      "source": [
        "#3 Classes Iris Dataset Example \n",
        "from sklearn.metrics import accuracy_score, confusion_matrix\n",
        "import matplotlib.pyplot as plt\n",
        "cfm = confusion_matrix(ytest, predictions) \n",
        "cfmheat = pd.DataFrame(cfm, index = ['setosa','versicolor','virginica'], columns = ['setosa','versicolor','virginica'])\n",
        "#confusionmatrix = pd.crosstab(cfmheat[index], cfm[columns], rownames=['Actual'], colnames=['Predicted'],  margins = True)\n",
        "sn.heatmap(cfmheat, annot=True,cmap='Blues')\n",
        "plt.title('Logistic Regression Confusion Matrix')\n",
        "plt.xlabel('Predicted', fontsize=13)\n",
        "plt.ylabel('Actual', fontsize=13)\n",
        "#setosa and virginica is predicted perfectly, while there are problems with versicolor "
      ],
      "execution_count": 11,
      "outputs": [
        {
          "output_type": "execute_result",
          "data": {
            "text/plain": [
              "Text(33.0, 0.5, 'Actual')"
            ]
          },
          "metadata": {
            "tags": []
          },
          "execution_count": 11
        },
        {
          "output_type": "display_data",
          "data": {
            "image/png": "[encoded data removed]",
            "text/plain": [
              "<Figure size 432x288 with 2 Axes>"
            ]
          },
          "metadata": {
            "tags": []
          }
        }
      ]
    },
    {
      "cell_type": "code",
      "metadata": {
        "colab_type": "code",
        "id": "-EW8NedFg8gs",
        "colab": {
          "base_uri": "https://localhost:8080/",
          "height": 1054
        },
        "outputId": "87c2260c-e257-4473-b4c1-3c9f0e3a1335"
      },
      "source": [
        "#from sklearn.metrics import classification_report\n",
        "#print(classification_report(ytest,predictions))\n",
        "#Confusion Matrix Stats \n",
        "cfmstats = ConfusionMatrix(ytest, predictions)\n",
        "cfmstats.print_stats()"
      ],
      "execution_count": 12,
      "outputs": [
        {
          "output_type": "stream",
          "text": [
            "Confusion Matrix:\n",
            "\n",
            "Predicted   0   1  2  __all__\n",
            "Actual                       \n",
            "0          11   0  0       11\n",
            "1           0  10  3       13\n",
            "2           0   0  6        6\n",
            "__all__    11  10  9       30\n",
            "\n",
            "\n",
            "Overall Statistics:\n",
            "\n",
            "Accuracy: 0.9\n",
            "95% CI: (0.7347115495257919, 0.9788828629702774)\n",
            "No Information Rate: ToDo\n",
            "P-Value [Acc > NIR]: 1.8876419625835964e-09\n",
            "Kappa: 0.8487394957983193\n",
            "Mcnemar's Test P-Value: ToDo\n",
            "\n",
            "\n",
            "Class Statistics:\n",
            "\n",
            "Classes                                       0         1         2\n",
            "Population                                   30        30        30\n",
            "P: Condition positive                        11        13         6\n",
            "N: Condition negative                        19        17        24\n",
            "Test outcome positive                        11        10         9\n",
            "Test outcome negative                        19        20        21\n",
            "TP: True Positive                            11        10         6\n",
            "TN: True Negative                            19        17        21\n",
            "FP: False Positive                            0         0         3\n",
            "FN: False Negative                            0         3         0\n",
            "TPR: (Sensitivity, hit rate, recall)          1  0.769231         1\n",
            "TNR=SPC: (Specificity)                        1         1     0.875\n",
            "PPV: Pos Pred Value (Precision)               1         1  0.666667\n",
            "NPV: Neg Pred Value                           1      0.85         1\n",
            "FPR: False-out                                0         0     0.125\n",
            "FDR: False Discovery Rate                     0         0  0.333333\n",
            "FNR: Miss Rate                                0  0.230769         0\n",
            "ACC: Accuracy                                 1       0.9       0.9\n",
            "F1 score                                      1  0.869565       0.8\n",
            "MCC: Matthews correlation coefficient         1  0.808608  0.763763\n",
            "Informedness                                  1  0.769231     0.875\n",
            "Markedness                                    1      0.85  0.666667\n",
            "Prevalence                             0.366667  0.433333       0.2\n",
            "LR+: Positive likelihood ratio              inf       inf         8\n",
            "LR-: Negative likelihood ratio                0  0.230769         0\n",
            "DOR: Diagnostic odds ratio                  inf       inf       inf\n",
            "FOR: False omission rate                      0      0.15         0\n"
          ],
          "name": "stdout"
        },
        {
          "output_type": "stream",
          "text": [
            "/usr/local/lib/python3.6/dist-packages/pandas_ml/confusion_matrix/stats.py:60: FutureWarning:\n",
            "\n",
            "supplying multiple axes to axis is deprecated and will be removed in a future version.\n",
            "\n",
            "/usr/local/lib/python3.6/dist-packages/pandas_ml/confusion_matrix/bcm.py:330: RuntimeWarning:\n",
            "\n",
            "divide by zero encountered in double_scalars\n",
            "\n",
            "/usr/local/lib/python3.6/dist-packages/pandas_ml/confusion_matrix/bcm.py:344: RuntimeWarning:\n",
            "\n",
            "divide by zero encountered in double_scalars\n",
            "\n"
          ],
          "name": "stderr"
        }
      ]
    },
    {
      "cell_type": "code",
      "metadata": {
        "id": "3TfKgpWq3fxy",
        "colab_type": "code",
        "colab": {}
      },
      "source": [
        "#MUST USE PLOTLY CREDENTIALS\n",
        "import plotly.plotly as py\n",
        "import plotly.graph_objs as go\n",
        "import plotly.figure_factory as ff\n",
        "#key = 'USE YOUR OWN KEY'\n",
        "#plotly.tools.set_credentials_file(username='USE YOUR OWN CREDENTIALS', api_key=key)"
      ],
      "execution_count": 0,
      "outputs": []
    },
    {
      "cell_type": "markdown",
      "metadata": {
        "id": "ZrBTNtSR-UxD",
        "colab_type": "text"
      },
      "source": [
        "**ROC AND PRC EXAMPLES**"
      ]
    },
    {
      "cell_type": "code",
      "metadata": {
        "id": "EnNWypEW49GT",
        "colab_type": "code",
        "colab": {}
      },
      "source": [
        "#Create a simulated dataset in which men and women are totally separable by height.\n",
        "\n",
        "men = np.round(np.random.normal(size = 1000, loc = 72, scale = 3))\n",
        "women = np.round(np.random.normal(size = 1000, loc = 52, scale = 3))\n",
        "\n",
        "#Assign the true classes to men and women in the dataset\n",
        "m_class = [1]*1000\n",
        "w_class = [0]*1000\n",
        "\n",
        "#Create separate dataframes for men and women\n",
        "men_df = pd.DataFrame({'height':men, 'is_man':m_class})\n",
        "women_df = pd.DataFrame({'height':women,'is_man':w_class})\n",
        "\n",
        "#Concatenate them together, predict class according to a heuristic (THIS WAS NOT USED)\n",
        "df1 = pd.concat([men_df, women_df])\n",
        "df1['pred_class'] = df1['height'].apply(lambda x: 1 if x > 62 else 0)\n"
      ],
      "execution_count": 0,
      "outputs": []
    },
    {
      "cell_type": "code",
      "metadata": {
        "id": "kmnolm5W5SCI",
        "colab_type": "code",
        "outputId": "41ca0b37-c4cc-4917-e038-32f12a40797a",
        "colab": {
          "base_uri": "https://localhost:8080/",
          "height": 545
        }
      },
      "source": [
        "#Use plotly to plot the distributions\n",
        "hist_data = [men, women]\n",
        "\n",
        "group_labels = ['Men', 'Women']\n",
        "colors = ['#333F44', '#37AA9C', '#94F3E4']\n",
        "\n",
        "# Create distplot with curve_type set to 'normal'\n",
        "fig = ff.create_distplot(hist_data, group_labels, show_hist=True, \n",
        "                         show_rug =False, colors=colors, curve_type = 'normal')\n",
        "# Add title\n",
        "fig['layout'].update(title='Men and Women Completely Distinct',showlegend=True,\n",
        "                    xaxis=dict(title='Height, inches'), yaxis=dict(title='Density'))\n",
        "# Plot!\n",
        "py.iplot(fig, filename='MenWomen Distinct')\n"
      ],
      "execution_count": 0,
      "outputs": [
        {
          "output_type": "execute_result",
          "data": {
            "text/html": [
              "<iframe id=\"igraph\" scrolling=\"no\" style=\"border:none;\" seamless=\"seamless\" src=\"https://plot.ly/~benartuso/11.embed\" height=\"525px\" width=\"100%\"></iframe>"
            ],
            "text/plain": [
              "<plotly.tools.PlotlyDisplay object>"
            ]
          },
          "metadata": {
            "tags": []
          },
          "execution_count": 11
        }
      ]
    },
    {
      "cell_type": "code",
      "metadata": {
        "id": "89b4N-5DRutf",
        "colab_type": "code",
        "outputId": "418e0a89-7336-484f-bd42-711086c2c70c",
        "colab": {
          "base_uri": "https://localhost:8080/",
          "height": 301
        }
      },
      "source": [
        "#Split into X and Y\n",
        "X = df1['height'].as_matrix().reshape(-1,1)\n",
        "y = df1['is_man'].as_matrix().reshape(-1,1)\n",
        "#Run logistic regression, generate probabilistic predictions of being male, add to dataset\n",
        "reg = LogisticRegression().fit(X,y)\n",
        "preds = reg.predict_proba(X)\n",
        "df1['lr_pred'] = preds[:,1]"
      ],
      "execution_count": 0,
      "outputs": [
        {
          "output_type": "stream",
          "text": [
            "/usr/local/lib/python3.6/dist-packages/ipykernel_launcher.py:1: FutureWarning:\n",
            "\n",
            "Method .as_matrix will be removed in a future version. Use .values instead.\n",
            "\n",
            "/usr/local/lib/python3.6/dist-packages/ipykernel_launcher.py:2: FutureWarning:\n",
            "\n",
            "Method .as_matrix will be removed in a future version. Use .values instead.\n",
            "\n",
            "/usr/local/lib/python3.6/dist-packages/sklearn/linear_model/logistic.py:432: FutureWarning:\n",
            "\n",
            "Default solver will be changed to 'lbfgs' in 0.22. Specify a solver to silence this warning.\n",
            "\n",
            "/usr/local/lib/python3.6/dist-packages/sklearn/utils/validation.py:724: DataConversionWarning:\n",
            "\n",
            "A column-vector y was passed when a 1d array was expected. Please change the shape of y to (n_samples, ), for example using ravel().\n",
            "\n"
          ],
          "name": "stderr"
        }
      ]
    },
    {
      "cell_type": "code",
      "metadata": {
        "id": "t903zcIm2g57",
        "colab_type": "code",
        "colab": {}
      },
      "source": [
        ""
      ],
      "execution_count": 0,
      "outputs": []
    },
    {
      "cell_type": "code",
      "metadata": {
        "id": "OGKcdsfD6yw-",
        "colab_type": "code",
        "outputId": "5747b296-4a5e-4ec9-e008-2a817123c536",
        "colab": {
          "base_uri": "https://localhost:8080/",
          "height": 804
        }
      },
      "source": [
        "lw = 2\n",
        "from sklearn.metrics import roc_curve, auc\n",
        "#Fit logistic regression model, make probability predictions\n",
        "X = df1['height'].as_matrix().reshape(-1,1)\n",
        "y = df1['is_man'].as_matrix().reshape(-1,1)\n",
        "reg = LogisticRegression().fit(X,y)\n",
        "preds = reg.predict_proba(X)\n",
        "df1['lr_pred'] = preds[:,1]\n",
        "#Calculate roc curve\n",
        "fpr1, tpr1, thresholds1 = roc_curve(df1['is_man'], df1['lr_pred'])\n",
        "roc_auc1 = auc(fpr1, tpr1)\n",
        "#Graph\n",
        "trace1 = go.Scatter(x=fpr1, y=tpr1, \n",
        "                    mode='lines', \n",
        "                    line=dict(color='#37AA9C', width=4),\n",
        "                    name='ROC curve (AUC = %0.2f)' % roc_auc1,\n",
        "                    showlegend=True\n",
        "                   )\n",
        "\n",
        "layout = {\n",
        "    'title': 'ROC for perfectly separable data',\n",
        "    'xaxis': {'title':'False positive rate','range': [0, 1]},\n",
        "    'yaxis': {'title':'True positive rate','range': [0, 1]},\n",
        "    'shapes': [{\n",
        "            'type': 'line',\n",
        "            'x0': 0,'y0': 0,'x1': 1,'y1': 1,\n",
        "            'line': {\n",
        "                'color': '#333F44',\n",
        "                'width': 4,\n",
        "                'dash': 'dot',\n",
        "            },\n",
        "        },\n",
        "    ]\n",
        "}\n",
        "\n",
        "fig = go.Figure(data=[trace1], layout=layout)\n",
        "fig['layout'].update(width=650, height=500, autosize=False)\n",
        "py.iplot(fig, equal_axes = True, filename='roc1')"
      ],
      "execution_count": 0,
      "outputs": [
        {
          "output_type": "stream",
          "text": [
            "/usr/local/lib/python3.6/dist-packages/ipykernel_launcher.py:4: FutureWarning:\n",
            "\n",
            "Method .as_matrix will be removed in a future version. Use .values instead.\n",
            "\n",
            "/usr/local/lib/python3.6/dist-packages/ipykernel_launcher.py:5: FutureWarning:\n",
            "\n",
            "Method .as_matrix will be removed in a future version. Use .values instead.\n",
            "\n",
            "/usr/local/lib/python3.6/dist-packages/sklearn/linear_model/logistic.py:432: FutureWarning:\n",
            "\n",
            "Default solver will be changed to 'lbfgs' in 0.22. Specify a solver to silence this warning.\n",
            "\n",
            "/usr/local/lib/python3.6/dist-packages/sklearn/utils/validation.py:724: DataConversionWarning:\n",
            "\n",
            "A column-vector y was passed when a 1d array was expected. Please change the shape of y to (n_samples, ), for example using ravel().\n",
            "\n"
          ],
          "name": "stderr"
        },
        {
          "output_type": "execute_result",
          "data": {
            "text/html": [
              "<iframe id=\"igraph\" scrolling=\"no\" style=\"border:none;\" seamless=\"seamless\" src=\"https://plot.ly/~benartuso/21.embed\" height=\"500px\" width=\"650px\"></iframe>"
            ],
            "text/plain": [
              "<plotly.tools.PlotlyDisplay object>"
            ]
          },
          "metadata": {
            "tags": []
          },
          "execution_count": 17
        }
      ]
    },
    {
      "cell_type": "code",
      "metadata": {
        "id": "aPSFW9ssPQFi",
        "colab_type": "code",
        "outputId": "9bff8162-f857-4923-96f7-ee1ea71a49af",
        "colab": {
          "base_uri": "https://localhost:8080/",
          "height": 312
        }
      },
      "source": [
        "#Imports\n",
        "from sklearn import svm, datasets\n",
        "from sklearn.model_selection import train_test_split\n",
        "from sklearn.metrics import average_precision_score\n",
        "from sklearn.metrics import precision_recall_curve\n",
        "import matplotlib.pyplot as plt\n",
        "from inspect import signature\n",
        "#Find average precision of model\n",
        "average_precision = average_precision_score(df1['is_man'], df1['pred_class'])\n",
        "#Generate curve\n",
        "precision, recall, _ = precision_recall_curve(df1['is_man'], df1['pred_class'])\n",
        "step_kwargs = ({'step': 'post'}\n",
        "               if 'step' in signature(plt.fill_between).parameters\n",
        "               else {})\n",
        "plt.step(recall, precision, color='b', alpha=0.2,\n",
        "         where='post')\n",
        "plt.fill_between(recall, precision, alpha=0.2, color='b', **step_kwargs)\n",
        "#Labeling graph\n",
        "plt.xlabel('Recall')\n",
        "plt.ylabel('Precision')\n",
        "plt.ylim([0.0, 1.0])\n",
        "plt.xlim([0.0, 1.0])\n",
        "plt.title('2-class Precision-Recall curve: Average Precision={0:0.2f}'.format(\n",
        "          average_precision))"
      ],
      "execution_count": 0,
      "outputs": [
        {
          "output_type": "execute_result",
          "data": {
            "text/plain": [
              "Text(0.5, 1.0, '2-class Precision-Recall curve: Average Precision=1.00')"
            ]
          },
          "metadata": {
            "tags": []
          },
          "execution_count": 18
        },
        {
          "output_type": "display_data",
          "data": {
            "image/png": "[encoded data removed]",
            "text/plain": [
              "<Figure size 432x288 with 1 Axes>"
            ]
          },
          "metadata": {
            "tags": []
          }
        }
      ]
    },
    {
      "cell_type": "markdown",
      "metadata": {
        "id": "hJSYBcFv-b_F",
        "colab_type": "text"
      },
      "source": [
        "**Men and women totally inseparable by height**"
      ]
    },
    {
      "cell_type": "code",
      "metadata": {
        "id": "qyO2Cpdl-iSK",
        "colab_type": "code",
        "colab": {}
      },
      "source": [
        "men2 = np.round(np.random.normal(size = 1000, loc = 62, scale = 3))\n",
        "women2 = np.round(np.random.normal(size = 1000, loc = 62, scale = 3))\n",
        "\n",
        "\n",
        "m2_class = [1]*1000\n",
        "w2_class = [0]*1000\n",
        "\n",
        "men2_df = pd.DataFrame({'height':men2, 'is_man':m2_class})\n",
        "women2_df = pd.DataFrame({'height':women2,'is_man':w2_class})\n",
        "\n",
        "df2 = pd.concat([men2_df, women2_df])\n",
        "df2['pred_class'] = df2['height'].apply(lambda x: 1 if x > 62 else 0)"
      ],
      "execution_count": 0,
      "outputs": []
    },
    {
      "cell_type": "code",
      "metadata": {
        "id": "PfzlFudO-jW6",
        "colab_type": "code",
        "outputId": "66d9c08d-dcc8-4f73-eefe-eaa3cf2be12c",
        "colab": {
          "base_uri": "https://localhost:8080/",
          "height": 545
        }
      },
      "source": [
        "\n",
        "hist_data = [men2, women2]\n",
        "\n",
        "group_labels = ['Men', 'Women']\n",
        "colors = ['#333F44', '#37AA9C']\n",
        "\n",
        "# Create distplot with curve_type set to 'normal'\n",
        "fig = ff.create_distplot(hist_data, group_labels, show_hist=True, show_rug =False, colors=colors, curve_type = 'normal')\n",
        "\n",
        "# Add title\n",
        "fig['layout'].update(title='No Gender Difference',showlegend=True,\n",
        "                    xaxis=dict(title='Height, inches'), yaxis=dict(title='Density'))\n",
        "\n",
        "# Plot!\n",
        "py.iplot(fig, filename='MenWomen Overlap')"
      ],
      "execution_count": 0,
      "outputs": [
        {
          "output_type": "execute_result",
          "data": {
            "text/html": [
              "<iframe id=\"igraph\" scrolling=\"no\" style=\"border:none;\" seamless=\"seamless\" src=\"https://plot.ly/~benartuso/13.embed\" height=\"525px\" width=\"100%\"></iframe>"
            ],
            "text/plain": [
              "<plotly.tools.PlotlyDisplay object>"
            ]
          },
          "metadata": {
            "tags": []
          },
          "execution_count": 20
        }
      ]
    },
    {
      "cell_type": "code",
      "metadata": {
        "id": "ZcPcogwkRV4S",
        "colab_type": "code",
        "outputId": "741dc326-2cc3-4fd9-93af-f62822d397cd",
        "colab": {
          "base_uri": "https://localhost:8080/",
          "height": 301
        }
      },
      "source": [
        "X = df2['height'].as_matrix().reshape(-1,1)\n",
        "y = df2['is_man'].as_matrix().reshape(-1,1)\n",
        "reg = LogisticRegression().fit(X,y)\n",
        "preds = reg.predict_proba(X)\n",
        "df2['lr_pred'] = preds[:,1]"
      ],
      "execution_count": 0,
      "outputs": [
        {
          "output_type": "stream",
          "text": [
            "/usr/local/lib/python3.6/dist-packages/ipykernel_launcher.py:1: FutureWarning:\n",
            "\n",
            "Method .as_matrix will be removed in a future version. Use .values instead.\n",
            "\n",
            "/usr/local/lib/python3.6/dist-packages/ipykernel_launcher.py:2: FutureWarning:\n",
            "\n",
            "Method .as_matrix will be removed in a future version. Use .values instead.\n",
            "\n",
            "/usr/local/lib/python3.6/dist-packages/sklearn/linear_model/logistic.py:432: FutureWarning:\n",
            "\n",
            "Default solver will be changed to 'lbfgs' in 0.22. Specify a solver to silence this warning.\n",
            "\n",
            "/usr/local/lib/python3.6/dist-packages/sklearn/utils/validation.py:724: DataConversionWarning:\n",
            "\n",
            "A column-vector y was passed when a 1d array was expected. Please change the shape of y to (n_samples, ), for example using ravel().\n",
            "\n"
          ],
          "name": "stderr"
        }
      ]
    },
    {
      "cell_type": "code",
      "metadata": {
        "id": "PBppE5T8pkt1",
        "colab_type": "code",
        "outputId": "86d85047-c3cb-4bab-9b44-b68c557199c0",
        "colab": {
          "base_uri": "https://localhost:8080/",
          "height": 520
        }
      },
      "source": [
        "fpr2, tpr2, thresholds = roc_curve(df2['is_man'], df2['lr_pred'])\n",
        "roc_auc2 = auc(fpr2, tpr2)\n",
        "\n",
        "lw = 2\n",
        "\n",
        "trace2 = go.Scatter(x=fpr2, y=tpr2, \n",
        "                    mode='lines', \n",
        "                    line=dict(color='#37AA9C', width=lw),\n",
        "                    name='ROC curve (AUC = %0.2f)' % roc_auc2,\n",
        "                    showlegend=True\n",
        "                   )\n",
        "\n",
        "layout = {\n",
        "    'title': 'ROC for perfectly overlapping data',\n",
        "    'xaxis': {'title':'False positive rate','range': [0, 1]},\n",
        "    'yaxis': {'title':'True positive rate','range': [0, 1]},\n",
        "    'shapes': [{\n",
        "            'type': 'line',\n",
        "            'x0': 0,'y0': 0,'x1': 1,'y1': 1,\n",
        "            'line': {\n",
        "                'color': '#333F44',\n",
        "                'width': 4,\n",
        "                'dash': 'dot',\n",
        "            },\n",
        "        },\n",
        "    ]\n",
        "}\n",
        "\n",
        "fig = go.Figure(data=[trace2], layout=layout)\n",
        "fig['layout'].update(width=650, height=500, autosize=False)\n",
        "py.iplot(fig, equal_axes = True, filename='roc2')"
      ],
      "execution_count": 0,
      "outputs": [
        {
          "output_type": "execute_result",
          "data": {
            "text/html": [
              "<iframe id=\"igraph\" scrolling=\"no\" style=\"border:none;\" seamless=\"seamless\" src=\"https://plot.ly/~benartuso/19.embed\" height=\"500px\" width=\"650px\"></iframe>"
            ],
            "text/plain": [
              "<plotly.tools.PlotlyDisplay object>"
            ]
          },
          "metadata": {
            "tags": []
          },
          "execution_count": 22
        }
      ]
    },
    {
      "cell_type": "code",
      "metadata": {
        "id": "cRce8MTAJHUn",
        "colab_type": "code",
        "outputId": "a9920a7e-0457-4982-f9c6-1f0efa83e220",
        "colab": {
          "base_uri": "https://localhost:8080/",
          "height": 312
        }
      },
      "source": [
        "average_precision = average_precision_score(df2['is_man'], df2['pred_class'])\n",
        "\n",
        "precision, recall, _ = precision_recall_curve(df2['is_man'], df2['pred_class'])\n",
        "step_kwargs = ({'step': 'post'}\n",
        "               if 'step' in signature(plt.fill_between).parameters\n",
        "               else {})\n",
        "plt.step(recall, precision, color='b', alpha=0.2,\n",
        "         where='post')\n",
        "plt.fill_between(recall, precision, alpha=0.2, color='b', **step_kwargs)\n",
        "\n",
        "plt.xlabel('Recall')\n",
        "plt.ylabel('Precision')\n",
        "plt.ylim([0.0, 1.0])\n",
        "plt.xlim([0.0, 1.0])\n",
        "plt.title('2-class Precision-Recall curve: Average Precision={0:0.2f}'.format(\n",
        "          average_precision))"
      ],
      "execution_count": 0,
      "outputs": [
        {
          "output_type": "execute_result",
          "data": {
            "text/plain": [
              "Text(0.5, 1.0, '2-class Precision-Recall curve: Average Precision=0.50')"
            ]
          },
          "metadata": {
            "tags": []
          },
          "execution_count": 23
        },
        {
          "output_type": "display_data",
          "data": {
            "image/png": "[encoded data removed]",
            "text/plain": [
              "<Figure size 432x288 with 1 Axes>"
            ]
          },
          "metadata": {
            "tags": []
          }
        }
      ]
    },
    {
      "cell_type": "code",
      "metadata": {
        "id": "vji8rjRC-xyb",
        "colab_type": "code",
        "colab": {}
      },
      "source": [
        "men3 = np.round(np.random.normal(size = 1000, loc = 70, scale = 3.5))\n",
        "women3 = np.round(np.random.normal(size = 1000, loc = 65, scale = 3.5))\n",
        "\n",
        "\n",
        "m3_class = [1]*1000\n",
        "w3_class = [0]*1000\n",
        "\n",
        "men3_df = pd.DataFrame({'height':men3, 'is_man':m3_class})\n",
        "women3_df = pd.DataFrame({'height':women3,'is_man':w3_class})\n",
        "\n",
        "df3 = pd.concat([men3_df, women3_df])\n",
        "df3['pred_class'] = df3['height'].apply(lambda x: 1 if x > 67.5 else 0)"
      ],
      "execution_count": 0,
      "outputs": []
    },
    {
      "cell_type": "code",
      "metadata": {
        "id": "YfmvKXbA_m5w",
        "colab_type": "code",
        "outputId": "0df8617c-2f9e-407e-f21f-c1ffd40c0b17",
        "colab": {
          "base_uri": "https://localhost:8080/",
          "height": 545
        }
      },
      "source": [
        "hist_data = [men3, women3]\n",
        "\n",
        "group_labels = ['Men', 'Women']\n",
        "colors = ['#333F44', '#37AA9C', '#94F3E4']\n",
        "\n",
        "# Create distplot with curve_type set to 'normal'\n",
        "fig = ff.create_distplot(hist_data, group_labels, show_hist=True, show_rug =False, colors=colors, curve_type = 'normal')\n",
        "\n",
        "# Add title\n",
        "fig['layout'].update(title='Real Heights',showlegend=True,\n",
        "                    xaxis=dict(title='Height, inches'), yaxis=dict(title='Density'))\n",
        "\n",
        "# Plot!\n",
        "py.iplot(fig, filename='MenWomen Real')"
      ],
      "execution_count": 0,
      "outputs": [
        {
          "output_type": "execute_result",
          "data": {
            "text/html": [
              "<iframe id=\"igraph\" scrolling=\"no\" style=\"border:none;\" seamless=\"seamless\" src=\"https://plot.ly/~benartuso/15.embed\" height=\"525px\" width=\"100%\"></iframe>"
            ],
            "text/plain": [
              "<plotly.tools.PlotlyDisplay object>"
            ]
          },
          "metadata": {
            "tags": []
          },
          "execution_count": 25
        }
      ]
    },
    {
      "cell_type": "code",
      "metadata": {
        "id": "NEXoz_8aQ6q-",
        "colab_type": "code",
        "outputId": "5dec2446-1180-42bc-f074-89fde98e740e",
        "colab": {
          "base_uri": "https://localhost:8080/",
          "height": 301
        }
      },
      "source": [
        "X = df3['height'].as_matrix().reshape(-1,1)\n",
        "y = df3['is_man'].as_matrix().reshape(-1,1)\n",
        "reg = LogisticRegression().fit(X,y)\n",
        "preds = reg.predict_proba(X)\n",
        "df3['lr_pred'] = preds[:,1]"
      ],
      "execution_count": 0,
      "outputs": [
        {
          "output_type": "stream",
          "text": [
            "/usr/local/lib/python3.6/dist-packages/ipykernel_launcher.py:1: FutureWarning:\n",
            "\n",
            "Method .as_matrix will be removed in a future version. Use .values instead.\n",
            "\n",
            "/usr/local/lib/python3.6/dist-packages/ipykernel_launcher.py:2: FutureWarning:\n",
            "\n",
            "Method .as_matrix will be removed in a future version. Use .values instead.\n",
            "\n",
            "/usr/local/lib/python3.6/dist-packages/sklearn/linear_model/logistic.py:432: FutureWarning:\n",
            "\n",
            "Default solver will be changed to 'lbfgs' in 0.22. Specify a solver to silence this warning.\n",
            "\n",
            "/usr/local/lib/python3.6/dist-packages/sklearn/utils/validation.py:724: DataConversionWarning:\n",
            "\n",
            "A column-vector y was passed when a 1d array was expected. Please change the shape of y to (n_samples, ), for example using ravel().\n",
            "\n"
          ],
          "name": "stderr"
        }
      ]
    },
    {
      "cell_type": "code",
      "metadata": {
        "id": "wbxt-wadVlGK",
        "colab_type": "code",
        "outputId": "881e770b-04e4-4088-f162-de1a8e34559a",
        "colab": {
          "base_uri": "https://localhost:8080/",
          "height": 520
        }
      },
      "source": [
        "\n",
        "from sklearn.metrics import roc_curve, auc\n",
        "fpr3, tpr3, thresholds = roc_curve(df3['is_man'], df3['lr_pred'])\n",
        "roc_auc3 = auc(fpr3, tpr3)\n",
        "\n",
        "lw = 2\n",
        "\n",
        "trace3 = go.Scatter(x=fpr3, y=tpr3, \n",
        "                    mode='lines', \n",
        "                    line=dict(color='#37AA9C', width=lw),\n",
        "                    name='ROC curve (AUC = %0.2f)' % roc_auc3,\n",
        "                    showlegend= True\n",
        "                   )\n",
        "\n",
        "layout = {\n",
        "    'title': 'ROC for real-world data',\n",
        "    'xaxis': {'title':'False positive rate','range': [0, 1]},\n",
        "    'yaxis': {'title':'True positive rate','range': [0, 1]},\n",
        "    'shapes': [{\n",
        "            'type': 'line',\n",
        "            'x0': 0,'y0': 0,'x1': 1,'y1': 1,\n",
        "            'line': {\n",
        "                'color': '#333F44',\n",
        "                'width': 4,\n",
        "                'dash': 'dot',\n",
        "            },\n",
        "        },\n",
        "    ]\n",
        "}\n",
        "\n",
        "fig = go.Figure(data=[trace3], layout=layout)\n",
        "fig['layout'].update(width=650, height=500, autosize=False)\n",
        "py.iplot(fig, equal_axes = True, filename='roc3')"
      ],
      "execution_count": 0,
      "outputs": [
        {
          "output_type": "execute_result",
          "data": {
            "text/html": [
              "<iframe id=\"igraph\" scrolling=\"no\" style=\"border:none;\" seamless=\"seamless\" src=\"https://plot.ly/~benartuso/17.embed\" height=\"500px\" width=\"650px\"></iframe>"
            ],
            "text/plain": [
              "<plotly.tools.PlotlyDisplay object>"
            ]
          },
          "metadata": {
            "tags": []
          },
          "execution_count": 27
        }
      ]
    },
    {
      "cell_type": "code",
      "metadata": {
        "id": "UpihKv-CPyyK",
        "colab_type": "code",
        "outputId": "569b55b4-4041-4877-bb9b-c9edbc36dd9e",
        "colab": {
          "base_uri": "https://localhost:8080/",
          "height": 312
        }
      },
      "source": [
        "average_precision = average_precision_score(df3['is_man'], df3['pred_class'])\n",
        "\n",
        "precision, recall, _ = precision_recall_curve(df3['is_man'], df3['pred_class'])\n",
        "step_kwargs = ({'step': 'post'}\n",
        "               if 'step' in signature(plt.fill_between).parameters\n",
        "               else {})\n",
        "plt.step(recall, precision, color='b', alpha=0.2,\n",
        "         where='post')\n",
        "plt.fill_between(recall, precision, alpha=0.2, color='b', **step_kwargs)\n",
        "\n",
        "plt.xlabel('Recall')\n",
        "plt.ylabel('Precision')\n",
        "plt.ylim([0.0, 1.0])\n",
        "plt.xlim([0.0, 1.0])\n",
        "plt.title('2-class Precision-Recall curve: Average Precision={0:0.2f}'.format(\n",
        "          average_precision))"
      ],
      "execution_count": 0,
      "outputs": [
        {
          "output_type": "execute_result",
          "data": {
            "text/plain": [
              "Text(0.5, 1.0, '2-class Precision-Recall curve: Average Precision=0.71')"
            ]
          },
          "metadata": {
            "tags": []
          },
          "execution_count": 28
        },
        {
          "output_type": "display_data",
          "data": {
            "image/png": "[encoded data removed]",
            "text/plain": [
              "<Figure size 432x288 with 1 Axes>"
            ]
          },
          "metadata": {
            "tags": []
          }
        }
      ]
    },
    {
      "cell_type": "code",
      "metadata": {
        "id": "KZXLAbfFQ5aG",
        "colab_type": "code",
        "colab": {}
      },
      "source": [
        "trace4 = go.Scatter(x=fpr1, y=tpr1, \n",
        "                    mode='lines', \n",
        "                    line=dict(color='#C3E5E1', width=4),\n",
        "                    name='ROC curve (AUC = %0.2f)' % roc_auc1,\n",
        "                    showlegend=True\n",
        "                   )\n",
        "trace5 = go.Scatter(x=fpr2, y=tpr2, \n",
        "                    mode='lines', \n",
        "                    line=dict(color='#10332F', width=2),\n",
        "                    name='ROC curve (AUC = %0.2f)' % roc_auc2,\n",
        "                    showlegend=True\n",
        "                   )\n",
        "trace6 = go.Scatter(x=fpr3, y=tpr3, \n",
        "                    mode='lines', \n",
        "                    line=dict(color='#37AA9C', width=2),\n",
        "                    name='ROC curve (AUC = %0.2f)' % roc_auc3,\n",
        "                    showlegend=True\n",
        "                   )"
      ],
      "execution_count": 0,
      "outputs": []
    },
    {
      "cell_type": "code",
      "metadata": {
        "id": "VI6cdP5YJf_7",
        "colab_type": "code",
        "outputId": "146730b5-96d6-46c8-8543-60e1d54cad81",
        "colab": {
          "base_uri": "https://localhost:8080/",
          "height": 520
        }
      },
      "source": [
        "fpr, tpr, thresholds = roc_curve(df1['is_man'], df1['lr_pred'])\n",
        "roc_auc = auc(fpr, tpr)\n",
        "\n",
        "lw = 2\n",
        "\n",
        "layout = {\n",
        "    'title': 'ROCs for more or less accurate models',\n",
        "    'xaxis': {'title':'False positive rate','range': [0, 1]},\n",
        "    'yaxis': {'title':'True positive rate','range': [0, 1]},\n",
        "    'shapes': [{\n",
        "            'type': 'line',\n",
        "            'x0': 0,'y0': 0,'x1': 1,'y1': 1,\n",
        "            'line': {\n",
        "                'color': '#333F44',\n",
        "                'width': 4,\n",
        "                'dash': 'dot',\n",
        "            },\n",
        "        },\n",
        "    ]\n",
        "}\n",
        "\n",
        "fig = go.Figure(data=[trace4,trace6,trace5], layout=layout)\n",
        "fig['layout'].update(width=650, height=500, autosize=False)\n",
        "py.iplot(fig, equal_axes = True, filename='roc4')"
      ],
      "execution_count": 0,
      "outputs": [
        {
          "output_type": "execute_result",
          "data": {
            "text/html": [
              "<iframe id=\"igraph\" scrolling=\"no\" style=\"border:none;\" seamless=\"seamless\" src=\"https://plot.ly/~benartuso/23.embed\" height=\"500px\" width=\"650px\"></iframe>"
            ],
            "text/plain": [
              "<plotly.tools.PlotlyDisplay object>"
            ]
          },
          "metadata": {
            "tags": []
          },
          "execution_count": 31
        }
      ]
    }
  ]
}
