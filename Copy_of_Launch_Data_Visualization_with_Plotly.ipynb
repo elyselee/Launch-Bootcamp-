{
  "nbformat": 4,
  "nbformat_minor": 0,
  "metadata": {
    "colab": {
      "name": "Copy of Launch: Data Visualization with Plotly.ipynb",
      "version": "0.3.2",
      "provenance": [],
      "include_colab_link": true
    },
    "kernelspec": {
      "name": "python3",
      "display_name": "Python 3"
    }
  },
  "cells": [
    {
      "cell_type": "markdown",
      "metadata": {
        "id": "view-in-github",
        "colab_type": "text"
      },
      "source": [
        "<a href=\"https://colab.research.google.com/github/elyselee/Launch-Bootcamp-/blob/master/Copy_of_Launch_Data_Visualization_with_Plotly.ipynb\" target=\"_parent\"><img src=\"https://colab.research.google.com/assets/colab-badge.svg\" alt=\"Open In Colab\"/></a>"
      ]
    },
    {
      "cell_type": "markdown",
      "metadata": {
        "id": "czih_EHJpbso",
        "colab_type": "text"
      },
      "source": [
        "**Launch: Data Visualization with Plotly** \n",
        "\n",
        "Elyse Lee & Ishaan Dey"
      ]
    },
    {
      "cell_type": "code",
      "metadata": {
        "id": "iRkHbdbCk7dw",
        "colab_type": "code",
        "colab": {}
      },
      "source": [
        "import pandas as pd"
      ],
      "execution_count": 0,
      "outputs": []
    },
    {
      "cell_type": "code",
      "metadata": {
        "id": "Fra3jiHBlP01",
        "colab_type": "code",
        "colab": {}
      },
      "source": [
        "df_city = pd.read_csv('City_time_series.csv')\n",
        "df_city.head()"
      ],
      "execution_count": 0,
      "outputs": []
    },
    {
      "cell_type": "code",
      "metadata": {
        "id": "4VPP2gkvlS7j",
        "colab_type": "code",
        "colab": {}
      },
      "source": [
        "import plotly\n",
        "#plotly.tools.set_credentials_file(username=, api_key=)"
      ],
      "execution_count": 0,
      "outputs": []
    },
    {
      "cell_type": "code",
      "metadata": {
        "id": "8n1hyc27lTNr",
        "colab_type": "code",
        "colab": {}
      },
      "source": [
        "df_city['year'] = pd.DatetimeIndex(df_city['Date']).year\n",
        "df_city.head()"
      ],
      "execution_count": 0,
      "outputs": []
    },
    {
      "cell_type": "code",
      "metadata": {
        "id": "-NCeXVezlVC4",
        "colab_type": "code",
        "colab": {}
      },
      "source": [
        "#dt.year selects the year of the datetime\n",
        "#df_cts.Date = pd.to_datetime(df_cts.Date)\n",
        "df_groupby_datebr=df_city.groupby(df_city['year'])[['ZHVI_1bedroom','ZHVI_2bedroom','ZHVI_3bedroom','ZHVI_4bedroom', 'ZHVI_5BedroomOrMore']].mean()\n",
        "df_groupby_datebr.head()"
      ],
      "execution_count": 0,
      "outputs": []
    },
    {
      "cell_type": "code",
      "metadata": {
        "id": "i9ydADQelZAy",
        "colab_type": "code",
        "colab": {}
      },
      "source": [
        "import plotly.graph_objs as go\n",
        "import plotly.plotly as py\n",
        "trace1 = go.Bar(\n",
        "                x = df_groupby_datebr.index.values,\n",
        "                y = df_groupby_datebr.ZHVI_1bedroom,\n",
        "                name = \"ZHVI_1bedroom\",\n",
        "                marker = dict(color = 'rgb(102,255,255)'),\n",
        "                text = df_groupby_datebr['ZHVI_1bedroom'])\n",
        "trace2 = go.Bar(\n",
        "                x = df_groupby_datebr.index.values,\n",
        "                y = df_groupby_datebr.ZHVI_2bedroom,\n",
        "                name = \"ZHVI_2bedroom\",\n",
        "                marker = dict(color = 'rgb(102,178,255)'),\n",
        "                text = df_groupby_datebr['ZHVI_2bedroom'])\n",
        "trace3 = go.Bar(\n",
        "                x = df_groupby_datebr.index.values,\n",
        "                y = df_groupby_datebr.ZHVI_3bedroom.values,\n",
        "                name = \"ZHVI_3bedroom\",\n",
        "                marker = dict(color = 'rgb(102,102,255)'),\n",
        "                text = df_groupby_datebr['ZHVI_3bedroom'])\n",
        "trace4 = go.Bar(\n",
        "                x = df_groupby_datebr.index.values,\n",
        "                y = df_groupby_datebr.ZHVI_4bedroom.values,\n",
        "                name = \"ZHVI_4bedroom\",\n",
        "                marker = dict(color = 'rgb(178, 102, 255)'),\n",
        "                text = df_groupby_datebr['ZHVI_4bedroom'])\n",
        "trace5 = go.Bar(\n",
        "                x = df_groupby_datebr.index.values,\n",
        "                y = df_groupby_datebr.ZHVI_5BedroomOrMore.values,\n",
        "                name = \"ZHVI_5BedroomOrMore\",\n",
        "                marker = dict(color = 'rgb(255, 102, 255)'),\n",
        "                text = df_groupby_datebr['ZHVI_5BedroomOrMore'])\n",
        "data = [trace1, trace2, trace3, trace4, trace5]\n",
        "layout = go.Layout(barmode = \"group\", title=\"Bar Chart: Mean House Values by Bedrooms and Year\",\n",
        "                   xaxis= dict(title= 'Year',ticklen= 5,zeroline= False), \n",
        "                   yaxis= dict(title= 'Mean House Values',ticklen= 5,zeroline= False))\n",
        "fig = go.Figure(data = data, layout = layout)\n",
        "url = py.plot(fig, validate=False)"
      ],
      "execution_count": 0,
      "outputs": []
    },
    {
      "cell_type": "code",
      "metadata": {
        "id": "TjxiOLagla26",
        "colab_type": "code",
        "colab": {}
      },
      "source": [
        "#Line Chart\n",
        "#Mean house values by bedrooms and year\n",
        "trace1 = go.Scatter(\n",
        "                x = df_groupby_datebr.index.values,\n",
        "                y = df_groupby_datebr.ZHVI_1bedroom,\n",
        "                mode = \"lines+markers\",\n",
        "                name = \"ZHVI_1bedroom\",\n",
        "                marker = dict(color = 'rgb(102,255,255)'),\n",
        "                text = df_groupby_datebr['ZHVI_1bedroom'])\n",
        "trace2 = go.Scatter(\n",
        "                x = df_groupby_datebr.index.values,\n",
        "                y = df_groupby_datebr.ZHVI_2bedroom,\n",
        "                mode = \"lines+markers\",\n",
        "                name = \"ZHVI_2bedroom\",\n",
        "                marker = dict(color = 'rgb(102,178,255)'),\n",
        "                text = df_groupby_datebr['ZHVI_2bedroom'])\n",
        "trace3 = go.Scatter(\n",
        "                x = df_groupby_datebr.index.values,\n",
        "                y = df_groupby_datebr.ZHVI_3bedroom.values,\n",
        "                mode = \"lines+markers\",\n",
        "                name = \"ZHVI_3bedroom\",\n",
        "                marker = dict(color = 'rgb(102,102,255)'),\n",
        "                text = df_groupby_datebr['ZHVI_3bedroom'])\n",
        "trace4 = go.Scatter(\n",
        "                x = df_groupby_datebr.index.values,\n",
        "                y = df_groupby_datebr.ZHVI_4bedroom.values,\n",
        "                mode = \"lines+markers\",\n",
        "                name = \"ZHVI_4bedroom\",\n",
        "                marker = dict(color = 'rgb(178, 102, 255)'),\n",
        "                text = df_groupby_datebr['ZHVI_4bedroom'])\n",
        "trace5 = go.Scatter(\n",
        "                x = df_groupby_datebr.index.values,\n",
        "                y = df_groupby_datebr.ZHVI_5BedroomOrMore.values,\n",
        "                mode = \"lines+markers\",\n",
        "                name = \"ZHVI_5BedroomOrMore\",\n",
        "                marker = dict(color = 'rgb(255, 102, 255)'),\n",
        "                text = df_groupby_datebr['ZHVI_5BedroomOrMore'])\n",
        "data = [trace1, trace2, trace3, trace4, trace5]\n",
        "layout = go.Layout(title = 'Line Plot: Mean House Values by Bedrooms and Year',\n",
        "              xaxis= dict(title= 'Year',ticklen= 5,zeroline= False),\n",
        "              yaxis= dict(title= 'Mean House Values',ticklen= 5,zeroline= False)\n",
        "             )\n",
        "fig = go.Figure(data = data, layout = layout)\n",
        "url = py.plot(fig, validate=False)\n"
      ],
      "execution_count": 0,
      "outputs": []
    },
    {
      "cell_type": "code",
      "metadata": {
        "id": "ym6qYIxpldTe",
        "colab_type": "code",
        "colab": {}
      },
      "source": [
        "df_state = pd.read_csv('State_time_series.csv')\n",
        "df_state.columns\n"
      ],
      "execution_count": 0,
      "outputs": []
    },
    {
      "cell_type": "code",
      "metadata": {
        "id": "77z-NohFleyO",
        "colab_type": "code",
        "colab": {}
      },
      "source": [
        "#Scatterplot\n",
        "from plotly import tools\n",
        "trace1 = go.Scatter(x=df_state.MedianListingPrice_1Bedroom,\n",
        "    y=df_sts.MedianListingPrice_2Bedroom, mode='markers',\n",
        "    name = \"1Bedroom&2Bedroom\", marker = dict(\n",
        "          color = 'rgb(102,255,255)'))\n",
        "trace2 = go.Scatter(x=df_state.MedianListingPrice_2Bedroom,\n",
        "    y=df_sts.MedianListingPrice_3Bedroom, mode='markers',\n",
        "    name = \"2Bedroom&3Bedroom\", marker = dict(\n",
        "          color = 'rgb(102,178,255)'))\n",
        "trace3 = go.Scatter( x=df_state.MedianListingPrice_3Bedroom,\n",
        "    y=df_sts.MedianListingPrice_4Bedroom, mode='markers',\n",
        "    name = \"3Bedroom&4Bedroom\", marker = dict(\n",
        "          color = 'rgb(102,102,255)'))\n",
        "trace4 = go.Scatter(x=df_state.MedianListingPrice_4Bedroom,\n",
        "    y=df_sts.MedianListingPrice_5BedroomOrMore, mode='markers',\n",
        "    name = \"4Bedroom&5+Bedroom\", marker = dict(\n",
        "          color = 'rgb(178, 102, 255)'))\n",
        "\n",
        "fig = tools.make_subplots(rows=2, cols=2, subplot_titles=(\"1Bedroom & 2Bedroom\", \"2Bedroom & 3Bedroom\",\n",
        "                                                          \"3Bedroom&4Bedroom\", \"4Bedroom&5+Bedroom\"))\n",
        "\n",
        "fig.append_trace(trace1, 1, 1)\n",
        "fig.append_trace(trace2, 1, 2)\n",
        "fig.append_trace(trace3, 2, 1)\n",
        "fig.append_trace(trace4, 2, 2)\n",
        "\n",
        "fig['layout']['xaxis3'].update(title='Median Listing Price')#showgrid=False\n",
        "fig['layout']['xaxis4'].update(title='Median Listing Price')\n",
        "\n",
        "fig['layout']['yaxis1'].update(title='Median Listing Price')\n",
        "fig['layout']['yaxis3'].update(title='Median Listing Price')\n",
        "\n",
        "fig['layout'].update(height=800, width=800, title='Mutiple Scatter Plots: Median Listing Price of' +\n",
        "                                                  ' Bedrooms')\n",
        "url = py.plot(fig, validate=False)"
      ],
      "execution_count": 0,
      "outputs": []
    },
    {
      "cell_type": "code",
      "metadata": {
        "id": "jh6AxwAnl1TK",
        "colab_type": "code",
        "colab": {}
      },
      "source": [
        "import pandas as pd\n",
        "import numpy as np\n",
        "import matplotlib.pyplot as plt\n",
        "import seaborn as sns\n",
        "sns.set_style()\n",
        "\n",
        "import plotly\n",
        "import plotly.plotly as py\n",
        "import plotly.graph_objs as go\n",
        "import plotly.figure_factory as ff\n",
        "import plotly.io as pio\n",
        "\n",
        "from IPython.display import Image\n",
        "\n",
        "#plotly.tools.set_credentials_file(username=, api_key=)"
      ],
      "execution_count": 0,
      "outputs": []
    },
    {
      "cell_type": "code",
      "metadata": {
        "id": "V0EcA0tFl9re",
        "colab_type": "code",
        "colab": {}
      },
      "source": [
        "df_county=pd.read_csv(\"/Users/ishaandey/Documents/HackCville/Week 4/zecon/County_time_series.csv\",parse_dates=True)\n",
        "df_county.Date=pd.to_datetime(df_county.Date)\n",
        "df_county['year'] = df_county.Date.dt.year\n",
        "\n",
        "county_crosswalk=pd.read_csv(\"/Users/ishaandey/Documents/HackCville/Week 4/zecon/CountyCrossWalk_Zillow.csv\",parse_dates=True)\n",
        "\n",
        "\n",
        "#df_city=pd.read_csv(\"/Users/ishaandey/Documents/HackCville/Week 4/zecon/City_time_series.csv\",parse_dates=True)\n",
        "#df_city.Date=pd.to_datetime(df_city.Date)\n",
        "#df_city['year'] = df_city.Date.dt.year\n",
        "\n",
        "\n",
        "df_state=pd.read_csv(\"/Users/ishaandey/Documents/HackCville/Week 4/zecon/State_time_series.csv\",parse_dates=True)\n",
        "df_state.Date=pd.to_datetime(df_state.Date)\n",
        "df_state['year'] = df_state.Date.dt.year\n",
        "\n",
        "df_state.MedianListingPricePerSqft_AllHomes[(df_state.RegionName == 'Alabama')&(df_state.year==2)]"
      ],
      "execution_count": 0,
      "outputs": []
    },
    {
      "cell_type": "code",
      "metadata": {
        "id": "5Yns8hRSmuEH",
        "colab_type": "code",
        "colab": {}
      },
      "source": [
        "print(df_state.shape)"
      ],
      "execution_count": 0,
      "outputs": []
    },
    {
      "cell_type": "code",
      "metadata": {
        "id": "JkvlE-24mtCd",
        "colab_type": "code",
        "colab": {}
      },
      "source": [
        "price_state_year = df_state.groupby(['RegionName','year'])[['MedianListingPricePerSqft_AllHomes']].mean()\n",
        "#price_state.swaplevel('year','RegionName')\n",
        "#price_state_year['Year'] = price_state_year.index.get_level_values(level=1)\n",
        "#price_state_year['State'] = price_state_year.index.get_level_values(level=0)\n",
        "price_state_year.reset_index(inplace=True)\n",
        "price_state_year"
      ],
      "execution_count": 0,
      "outputs": []
    },
    {
      "cell_type": "code",
      "metadata": {
        "id": "NgsKyEnnm5rz",
        "colab_type": "code",
        "colab": {}
      },
      "source": [
        "#price_state_year.groupby(level='RegionName').mean()\n",
        "#price_state_2017 = price_state_year.xs(2017, level=1, drop_level=False)"
      ],
      "execution_count": 0,
      "outputs": []
    },
    {
      "cell_type": "code",
      "metadata": {
        "id": "16xKhtZjnDXY",
        "colab_type": "code",
        "colab": {}
      },
      "source": [
        "#Boxplot\n",
        "trace_list = []\n",
        "for state in sorted(price_state_year.RegionName.unique().tolist(),reverse=True):\n",
        "    trace = go.Box(\n",
        "        x=price_state_year.MedianListingPricePerSqft_AllHomes[price_state_year.RegionName==state],\n",
        "#        boxpoints='all',\n",
        "#        jitter=0.3,\n",
        "        name=state,\n",
        "        marker=dict(color='rgb(178, 102, 255)')\n",
        "        )\n",
        "    trace_list.append(trace)\n",
        "data = trace_list\n",
        "layout = go.Layout(\n",
        "    xaxis=dict(title='Median Listing Price Per Sqft for All Homes', zeroline=False),\n",
        "    boxmode='group',\n",
        "    boxgap=0.0,\n",
        "    showlegend=False\n",
        ")\n",
        "fig = go.Figure(data=data, layout=layout)\n",
        "py.plot(fig, validate=False, filename='Median Listing Price Per Sqft')\n",
        "\n",
        "#img = pio.to_image(fig, format='png', width=600, height=350, scale=2)\n",
        "#Image(img)"
      ],
      "execution_count": 0,
      "outputs": []
    },
    {
      "cell_type": "code",
      "metadata": {
        "id": "-uX31cOjnNzr",
        "colab_type": "code",
        "colab": {}
      },
      "source": [
        "#Choropleth\n",
        "ZHVI_state_year = df_state.groupby(['RegionName','year'])[['MedianListingPricePerSqft_AllHomes']].mean()\n",
        "ZHVI_county_year = df_county.groupby(['RegionName','year'])[['MedianListingPricePerSqft_AllHomes']].mean()\n",
        "\n",
        "ZHVI_state_2017 = df_state[df_state.year==2017].groupby(['RegionName'])[['MedianListingPricePerSqft_AllHomes']].mean()\n",
        "ZHVI_county_2017 = df_county[df_county.year==2017].groupby(['RegionName'])[['MedianListingPricePerSqft_AllHomes']].mean()\n",
        "\n",
        "values = ZHVI_county_2017['MedianListingPricePerSqft_AllHomes'].tolist()\n",
        "fips = ZHVI_county_2017['MedianListingPricePerSqft_AllHomes'].index.tolist()\n",
        "\n",
        "ZHVI_county_2017['MedianListingPricePerSqft_AllHomes'].describe()\n",
        "\n",
        "colorscale = [\n",
        "    'rgb(68.0, 1.0, 84.0)',\n",
        "    'rgb(66.0, 64.0, 134.0)',\n",
        "    'rgb(38.0, 130.0, 142.0)',\n",
        "    'rgb(63.0, 188.0, 115.0)',\n",
        "#    'rgb(216.0, 226.0, 25.0)'\n",
        "]\n",
        "\n",
        "\n",
        "fig = ff.create_choropleth(\n",
        "    fips=fips, values=values, scope=['usa'],\n",
        "    binning_endpoints=[80.9, 102.8, 135.5], colorscale=colorscale,\n",
        "#    county_outline={'color': 'rgb(255,255,255)', 'width': 0.5}, round_legend_values=True,\n",
        "    title='United States', legend_title='ZHVI_BottomTier by County'\n",
        ")\n",
        "print('done')\n",
        "py.plot(fig, validate=False, filename='ZHVI_cities')"
      ],
      "execution_count": 0,
      "outputs": []
    },
    {
      "cell_type": "code",
      "metadata": {
        "id": "_qGATpWDnQyl",
        "colab_type": "code",
        "colab": {}
      },
      "source": [
        "x0 = np.random.randn(50)\n",
        "x1 = np.random.randn(50) + 2\n",
        "\n",
        "trace0 = go.Box(x=x0)\n",
        "trace1 = go.Box(x=x1)\n",
        "data = [trace0, trace1]\n",
        "py.plot(data)"
      ],
      "execution_count": 0,
      "outputs": []
    }
  ]
}