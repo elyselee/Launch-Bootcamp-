{
 "cells": [
  {
   "cell_type": "code",
   "execution_count": 1,
   "metadata": {},
   "outputs": [
    {
     "name": "stdout",
     "output_type": "stream",
     "text": [
      "Looking in links: http://h2o-release.s3.amazonaws.com/h2o/latest_stable_Py.html\n",
      "Requirement already satisfied: h2o in ./anaconda3/lib/python3.7/site-packages (3.24.0.4)\n",
      "Requirement already satisfied: tabulate in ./anaconda3/lib/python3.7/site-packages (from h2o) (0.8.3)\n",
      "Requirement already satisfied: requests in ./anaconda3/lib/python3.7/site-packages (from h2o) (2.21.0)\n",
      "Requirement already satisfied: colorama>=0.3.8 in ./anaconda3/lib/python3.7/site-packages (from h2o) (0.4.1)\n",
      "Requirement already satisfied: future in ./anaconda3/lib/python3.7/site-packages (from h2o) (0.17.1)\n",
      "Requirement already satisfied: chardet<3.1.0,>=3.0.2 in ./anaconda3/lib/python3.7/site-packages (from requests->h2o) (3.0.4)\n",
      "Requirement already satisfied: idna<2.9,>=2.5 in ./anaconda3/lib/python3.7/site-packages (from requests->h2o) (2.8)\n",
      "Requirement already satisfied: certifi>=2017.4.17 in ./anaconda3/lib/python3.7/site-packages (from requests->h2o) (2018.11.29)\n",
      "Requirement already satisfied: urllib3<1.25,>=1.21.1 in ./anaconda3/lib/python3.7/site-packages (from requests->h2o) (1.24.1)\n"
     ]
    }
   ],
   "source": [
    "!pip install -f http://h2o-release.s3.amazonaws.com/h2o/latest_stable_Py.html h2o"
   ]
  },
  {
   "cell_type": "code",
   "execution_count": 1,
   "metadata": {},
   "outputs": [],
   "source": [
    "import h2o"
   ]
  },
  {
   "cell_type": "code",
   "execution_count": 2,
   "metadata": {},
   "outputs": [
    {
     "name": "stdout",
     "output_type": "stream",
     "text": [
      "Checking whether there is an H2O instance running at http://localhost:54321 . connected.\n"
     ]
    },
    {
     "data": {
      "text/html": [
       "<div style=\"overflow:auto\"><table style=\"width:50%\"><tr><td>H2O cluster uptime:</td>\n",
       "<td>19 hours 42 mins</td></tr>\n",
       "<tr><td>H2O cluster timezone:</td>\n",
       "<td>America/New_York</td></tr>\n",
       "<tr><td>H2O data parsing timezone:</td>\n",
       "<td>UTC</td></tr>\n",
       "<tr><td>H2O cluster version:</td>\n",
       "<td>3.24.0.4</td></tr>\n",
       "<tr><td>H2O cluster version age:</td>\n",
       "<td>14 days, 6 hours and 40 minutes </td></tr>\n",
       "<tr><td>H2O cluster name:</td>\n",
       "<td>H2O_from_python_elyselee_pfqsdu</td></tr>\n",
       "<tr><td>H2O cluster total nodes:</td>\n",
       "<td>1</td></tr>\n",
       "<tr><td>H2O cluster free memory:</td>\n",
       "<td>7.544 Gb</td></tr>\n",
       "<tr><td>H2O cluster total cores:</td>\n",
       "<td>4</td></tr>\n",
       "<tr><td>H2O cluster allowed cores:</td>\n",
       "<td>4</td></tr>\n",
       "<tr><td>H2O cluster status:</td>\n",
       "<td>locked, healthy</td></tr>\n",
       "<tr><td>H2O connection url:</td>\n",
       "<td>http://localhost:54321</td></tr>\n",
       "<tr><td>H2O connection proxy:</td>\n",
       "<td>None</td></tr>\n",
       "<tr><td>H2O internal security:</td>\n",
       "<td>False</td></tr>\n",
       "<tr><td>H2O API Extensions:</td>\n",
       "<td>Amazon S3, XGBoost, Algos, AutoML, Core V3, Core V4</td></tr>\n",
       "<tr><td>Python version:</td>\n",
       "<td>3.7.1 final</td></tr></table></div>"
      ],
      "text/plain": [
       "--------------------------  ---------------------------------------------------\n",
       "H2O cluster uptime:         19 hours 42 mins\n",
       "H2O cluster timezone:       America/New_York\n",
       "H2O data parsing timezone:  UTC\n",
       "H2O cluster version:        3.24.0.4\n",
       "H2O cluster version age:    14 days, 6 hours and 40 minutes\n",
       "H2O cluster name:           H2O_from_python_elyselee_pfqsdu\n",
       "H2O cluster total nodes:    1\n",
       "H2O cluster free memory:    7.544 Gb\n",
       "H2O cluster total cores:    4\n",
       "H2O cluster allowed cores:  4\n",
       "H2O cluster status:         locked, healthy\n",
       "H2O connection url:         http://localhost:54321\n",
       "H2O connection proxy:\n",
       "H2O internal security:      False\n",
       "H2O API Extensions:         Amazon S3, XGBoost, Algos, AutoML, Core V3, Core V4\n",
       "Python version:             3.7.1 final\n",
       "--------------------------  ---------------------------------------------------"
      ]
     },
     "metadata": {},
     "output_type": "display_data"
    }
   ],
   "source": [
    "h2o.init()"
   ]
  },
  {
   "cell_type": "code",
   "execution_count": 4,
   "metadata": {},
   "outputs": [
    {
     "name": "stdout",
     "output_type": "stream",
     "text": [
      "Parse progress: |█████████████████████████████████████████████████████████| 100%\n"
     ]
    }
   ],
   "source": [
    "df_uci = h2o.import_file('/Users/elyselee/Documents/HackCville/uci_credit.csv')"
   ]
  },
  {
   "cell_type": "code",
   "execution_count": 7,
   "metadata": {},
   "outputs": [
    {
     "ename": "H2OValueError",
     "evalue": "Column(s) selected to drop are not in original frame: 'ID'",
     "output_type": "error",
     "traceback": [
      "\u001b[0;31m---------------------------------------------------------------------------\u001b[0m",
      "\u001b[0;31mH2OValueError\u001b[0m                             Traceback (most recent call last)",
      "\u001b[0;32m<ipython-input-7-17845579001d>\u001b[0m in \u001b[0;36m<module>\u001b[0;34m\u001b[0m\n\u001b[1;32m      1\u001b[0m \u001b[0mdf_uci\u001b[0m\u001b[0;34m.\u001b[0m\u001b[0mcolumns\u001b[0m\u001b[0;34m\u001b[0m\u001b[0;34m\u001b[0m\u001b[0m\n\u001b[0;32m----> 2\u001b[0;31m \u001b[0mdf_uci\u001b[0m\u001b[0;34m=\u001b[0m\u001b[0mdf_uci\u001b[0m\u001b[0;34m.\u001b[0m\u001b[0mdrop\u001b[0m\u001b[0;34m(\u001b[0m\u001b[0;34m'ID'\u001b[0m\u001b[0;34m)\u001b[0m\u001b[0;34m\u001b[0m\u001b[0;34m\u001b[0m\u001b[0m\n\u001b[0m\u001b[1;32m      3\u001b[0m \u001b[0mdf_uci\u001b[0m\u001b[0;34m[\u001b[0m\u001b[0;34m'default payment next month'\u001b[0m\u001b[0;34m]\u001b[0m \u001b[0;34m=\u001b[0m \u001b[0mdf_uci\u001b[0m\u001b[0;34m[\u001b[0m\u001b[0;34m'default payment next month'\u001b[0m\u001b[0;34m]\u001b[0m\u001b[0;34m.\u001b[0m\u001b[0mapply\u001b[0m\u001b[0;34m(\u001b[0m\u001b[0mstr\u001b[0m\u001b[0;34m)\u001b[0m\u001b[0;34m\u001b[0m\u001b[0;34m\u001b[0m\u001b[0m\n",
      "\u001b[0;32m~/anaconda3/lib/python3.7/site-packages/h2o/frame.py\u001b[0m in \u001b[0;36mdrop\u001b[0;34m(self, index, axis)\u001b[0m\n\u001b[1;32m   1569\u001b[0m                     \u001b[0;31m#Check if index is an actual column(s) in the frame\u001b[0m\u001b[0;34m\u001b[0m\u001b[0;34m\u001b[0m\u001b[0;34m\u001b[0m\u001b[0m\n\u001b[1;32m   1570\u001b[0m                     \u001b[0;32mif\u001b[0m \u001b[0mindex\u001b[0m \u001b[0;32mnot\u001b[0m \u001b[0;32min\u001b[0m \u001b[0mself\u001b[0m\u001b[0;34m.\u001b[0m\u001b[0mnames\u001b[0m\u001b[0;34m:\u001b[0m\u001b[0;34m\u001b[0m\u001b[0;34m\u001b[0m\u001b[0m\n\u001b[0;32m-> 1571\u001b[0;31m                         \u001b[0;32mraise\u001b[0m \u001b[0mH2OValueError\u001b[0m\u001b[0;34m(\u001b[0m\u001b[0;34m\"Column(s) selected to drop are not in original frame: %r\"\u001b[0m \u001b[0;34m%\u001b[0m \u001b[0mindex\u001b[0m\u001b[0;34m)\u001b[0m\u001b[0;34m\u001b[0m\u001b[0;34m\u001b[0m\u001b[0m\n\u001b[0m\u001b[1;32m   1572\u001b[0m                     \u001b[0mindex\u001b[0m \u001b[0;34m=\u001b[0m \u001b[0mself\u001b[0m\u001b[0;34m.\u001b[0m\u001b[0mnames\u001b[0m\u001b[0;34m.\u001b[0m\u001b[0mindex\u001b[0m\u001b[0;34m(\u001b[0m\u001b[0mindex\u001b[0m\u001b[0;34m)\u001b[0m\u001b[0;34m\u001b[0m\u001b[0;34m\u001b[0m\u001b[0m\n\u001b[1;32m   1573\u001b[0m                 \u001b[0;31m#If input is an int indicating a column index, i.e., 3:\u001b[0m\u001b[0;34m\u001b[0m\u001b[0;34m\u001b[0m\u001b[0;34m\u001b[0m\u001b[0m\n",
      "\u001b[0;31mH2OValueError\u001b[0m: Column(s) selected to drop are not in original frame: 'ID'"
     ]
    }
   ],
   "source": [
    "df_uci.columns\n",
    "df_uci=df_uci.drop('ID')\n"
   ]
  },
  {
   "cell_type": "code",
   "execution_count": 11,
   "metadata": {},
   "outputs": [
    {
     "data": {
      "text/plain": [
       "{'LIMIT_BAL': 'int',\n",
       " 'SEX': 'int',\n",
       " 'EDUCATION': 'int',\n",
       " 'MARRIAGE': 'int',\n",
       " 'AGE': 'int',\n",
       " 'PAY_0': 'int',\n",
       " 'PAY_2': 'int',\n",
       " 'PAY_3': 'int',\n",
       " 'PAY_4': 'int',\n",
       " 'PAY_5': 'int',\n",
       " 'PAY_6': 'int',\n",
       " 'BILL_AMT1': 'int',\n",
       " 'BILL_AMT2': 'int',\n",
       " 'BILL_AMT3': 'int',\n",
       " 'BILL_AMT4': 'int',\n",
       " 'BILL_AMT5': 'int',\n",
       " 'BILL_AMT6': 'int',\n",
       " 'PAY_AMT1': 'int',\n",
       " 'PAY_AMT2': 'int',\n",
       " 'PAY_AMT3': 'int',\n",
       " 'PAY_AMT4': 'int',\n",
       " 'PAY_AMT5': 'int',\n",
       " 'PAY_AMT6': 'int',\n",
       " 'default payment next month': 'int'}"
      ]
     },
     "execution_count": 11,
     "metadata": {},
     "output_type": "execute_result"
    }
   ],
   "source": [
    "df_uci.types"
   ]
  },
  {
   "cell_type": "code",
   "execution_count": 6,
   "metadata": {},
   "outputs": [
    {
     "ename": "H2OTypeError",
     "evalue": "Argument `fun` should be a function, got type <class 'str'>",
     "output_type": "error",
     "traceback": [
      "\u001b[0;31m---------------------------------------------------------------------------\u001b[0m",
      "\u001b[0;31mH2OTypeError\u001b[0m                              Traceback (most recent call last)",
      "\u001b[0;32m<ipython-input-6-1f328d7d8051>\u001b[0m in \u001b[0;36m<module>\u001b[0;34m\u001b[0m\n\u001b[1;32m      1\u001b[0m \u001b[0mtrain\u001b[0m\u001b[0;34m,\u001b[0m\u001b[0mtest\u001b[0m\u001b[0;34m,\u001b[0m\u001b[0mvalid\u001b[0m \u001b[0;34m=\u001b[0m \u001b[0mdf_uci\u001b[0m\u001b[0;34m.\u001b[0m\u001b[0msplit_frame\u001b[0m\u001b[0;34m(\u001b[0m\u001b[0mratios\u001b[0m\u001b[0;34m=\u001b[0m\u001b[0;34m[\u001b[0m\u001b[0;36m.7\u001b[0m\u001b[0;34m,\u001b[0m \u001b[0;36m.15\u001b[0m\u001b[0;34m]\u001b[0m\u001b[0;34m)\u001b[0m\u001b[0;34m\u001b[0m\u001b[0;34m\u001b[0m\u001b[0m\n\u001b[0;32m----> 2\u001b[0;31m \u001b[0mdf_uci\u001b[0m\u001b[0;34m[\u001b[0m\u001b[0;34m'default payment next month'\u001b[0m\u001b[0;34m]\u001b[0m \u001b[0;34m=\u001b[0m \u001b[0mdf_uci\u001b[0m\u001b[0;34m[\u001b[0m\u001b[0;34m'default payment next month'\u001b[0m\u001b[0;34m]\u001b[0m\u001b[0;34m.\u001b[0m\u001b[0mapply\u001b[0m\u001b[0;34m(\u001b[0m\u001b[0mstr\u001b[0m\u001b[0;34m)\u001b[0m\u001b[0;34m\u001b[0m\u001b[0;34m\u001b[0m\u001b[0m\n\u001b[0m",
      "\u001b[0;32m~/anaconda3/lib/python3.7/site-packages/h2o/frame.py\u001b[0m in \u001b[0;36mapply\u001b[0;34m(self, fun, axis)\u001b[0m\n\u001b[1;32m   3321\u001b[0m         \u001b[0;32mfrom\u001b[0m \u001b[0;34m.\u001b[0m\u001b[0mastfun\u001b[0m \u001b[0;32mimport\u001b[0m \u001b[0mlambda_to_expr\u001b[0m\u001b[0;34m\u001b[0m\u001b[0;34m\u001b[0m\u001b[0m\n\u001b[1;32m   3322\u001b[0m         \u001b[0massert_is_type\u001b[0m\u001b[0;34m(\u001b[0m\u001b[0maxis\u001b[0m\u001b[0;34m,\u001b[0m \u001b[0;36m0\u001b[0m\u001b[0;34m,\u001b[0m \u001b[0;36m1\u001b[0m\u001b[0;34m)\u001b[0m\u001b[0;34m\u001b[0m\u001b[0;34m\u001b[0m\u001b[0m\n\u001b[0;32m-> 3323\u001b[0;31m         \u001b[0massert_is_type\u001b[0m\u001b[0;34m(\u001b[0m\u001b[0mfun\u001b[0m\u001b[0;34m,\u001b[0m \u001b[0mFunctionType\u001b[0m\u001b[0;34m)\u001b[0m\u001b[0;34m\u001b[0m\u001b[0;34m\u001b[0m\u001b[0m\n\u001b[0m\u001b[1;32m   3324\u001b[0m         \u001b[0massert_satisfies\u001b[0m\u001b[0;34m(\u001b[0m\u001b[0mfun\u001b[0m\u001b[0;34m,\u001b[0m \u001b[0mfun\u001b[0m\u001b[0;34m.\u001b[0m\u001b[0m__name__\u001b[0m \u001b[0;34m==\u001b[0m \u001b[0;34m\"<lambda>\"\u001b[0m\u001b[0;34m)\u001b[0m\u001b[0;34m\u001b[0m\u001b[0;34m\u001b[0m\u001b[0m\n\u001b[1;32m   3325\u001b[0m         \u001b[0mres\u001b[0m \u001b[0;34m=\u001b[0m \u001b[0mlambda_to_expr\u001b[0m\u001b[0;34m(\u001b[0m\u001b[0mfun\u001b[0m\u001b[0;34m)\u001b[0m\u001b[0;34m\u001b[0m\u001b[0;34m\u001b[0m\u001b[0m\n",
      "\u001b[0;32m~/anaconda3/lib/python3.7/site-packages/h2o/utils/typechecks.py\u001b[0m in \u001b[0;36massert_is_type\u001b[0;34m(var, *types, **kwargs)\u001b[0m\n\u001b[1;32m    455\u001b[0m     \u001b[0mvtn\u001b[0m \u001b[0;34m=\u001b[0m \u001b[0m_get_type_name\u001b[0m\u001b[0;34m(\u001b[0m\u001b[0mtype\u001b[0m\u001b[0;34m(\u001b[0m\u001b[0mvar\u001b[0m\u001b[0;34m)\u001b[0m\u001b[0;34m)\u001b[0m\u001b[0;34m\u001b[0m\u001b[0;34m\u001b[0m\u001b[0m\n\u001b[1;32m    456\u001b[0m     raise H2OTypeError(var_name=vname, var_value=var, var_type_name=vtn, exp_type_name=etn, message=message,\n\u001b[0;32m--> 457\u001b[0;31m                        skip_frames=skip_frames)\n\u001b[0m\u001b[1;32m    458\u001b[0m \u001b[0;34m\u001b[0m\u001b[0m\n\u001b[1;32m    459\u001b[0m \u001b[0;34m\u001b[0m\u001b[0m\n",
      "\u001b[0;31mH2OTypeError\u001b[0m: Argument `fun` should be a function, got type <class 'str'>"
     ]
    }
   ],
   "source": [
    "#train test valid split\n",
    "train,test,valid = df_uci.split_frame(ratios=[.7, .15])"
   ]
  },
  {
   "cell_type": "code",
   "execution_count": 12,
   "metadata": {},
   "outputs": [],
   "source": [
    "y = 'default payment next month'\n",
    "x = train.columns\n",
    "x.remove(y)\n",
    "train[y] = train[y].asfactor()\n",
    "test[y] = test[y].asfactor()"
   ]
  },
  {
   "cell_type": "code",
   "execution_count": 15,
   "metadata": {},
   "outputs": [],
   "source": [
    "from h2o.estimators.random_forest import H2ORandomForestEstimator"
   ]
  },
  {
   "cell_type": "code",
   "execution_count": 16,
   "metadata": {},
   "outputs": [],
   "source": [
    "rf_fit1 = H2ORandomForestEstimator(model_id='rf_fit1', seed=1)"
   ]
  },
  {
   "cell_type": "code",
   "execution_count": 17,
   "metadata": {},
   "outputs": [
    {
     "name": "stdout",
     "output_type": "stream",
     "text": [
      "drf Model Build progress: |███████████████████████████████████████████████| 100%\n"
     ]
    }
   ],
   "source": [
    "rf_fit1.train(x=x, y=y, training_frame=train)"
   ]
  },
  {
   "cell_type": "code",
   "execution_count": 19,
   "metadata": {},
   "outputs": [
    {
     "name": "stdout",
     "output_type": "stream",
     "text": [
      "\n",
      "ModelMetricsBinomial: drf\n",
      "** Reported on test data. **\n",
      "\n",
      "MSE: 0.13610095212641088\n",
      "RMSE: 0.36891862534495445\n",
      "LogLoss: 0.43353836958800374\n",
      "Mean Per-Class Error: 0.282434228107993\n",
      "AUC: 0.7800878876924752\n",
      "pr_auc: 0.5524684197551553\n",
      "Gini: 0.5601757753849503\n",
      "Confusion Matrix (Act/Pred) for max f1 @ threshold = 0.2469366437594096: \n"
     ]
    },
    {
     "data": {
      "text/html": [
       "<div style=\"overflow:auto\"><table style=\"width:50%\"><tr><td><b></b></td>\n",
       "<td><b>0</b></td>\n",
       "<td><b>1</b></td>\n",
       "<td><b>Error</b></td>\n",
       "<td><b>Rate</b></td></tr>\n",
       "<tr><td>0</td>\n",
       "<td>2791.0</td>\n",
       "<td>698.0</td>\n",
       "<td>0.2001</td>\n",
       "<td> (698.0/3489.0)</td></tr>\n",
       "<tr><td>1</td>\n",
       "<td>367.0</td>\n",
       "<td>639.0</td>\n",
       "<td>0.3648</td>\n",
       "<td> (367.0/1006.0)</td></tr>\n",
       "<tr><td>Total</td>\n",
       "<td>3158.0</td>\n",
       "<td>1337.0</td>\n",
       "<td>0.2369</td>\n",
       "<td> (1065.0/4495.0)</td></tr></table></div>"
      ],
      "text/plain": [
       "       0     1     Error    Rate\n",
       "-----  ----  ----  -------  ---------------\n",
       "0      2791  698   0.2001   (698.0/3489.0)\n",
       "1      367   639   0.3648   (367.0/1006.0)\n",
       "Total  3158  1337  0.2369   (1065.0/4495.0)"
      ]
     },
     "metadata": {},
     "output_type": "display_data"
    },
    {
     "name": "stdout",
     "output_type": "stream",
     "text": [
      "Maximum Metrics: Maximum metrics at their respective thresholds\n",
      "\n"
     ]
    },
    {
     "data": {
      "text/html": [
       "<div style=\"overflow:auto\"><table style=\"width:50%\"><tr><td><b>metric</b></td>\n",
       "<td><b>threshold</b></td>\n",
       "<td><b>value</b></td>\n",
       "<td><b>idx</b></td></tr>\n",
       "<tr><td>max f1</td>\n",
       "<td>0.2469366</td>\n",
       "<td>0.5454545</td>\n",
       "<td>228.0</td></tr>\n",
       "<tr><td>max f2</td>\n",
       "<td>0.1321959</td>\n",
       "<td>0.6383462</td>\n",
       "<td>307.0</td></tr>\n",
       "<tr><td>max f0point5</td>\n",
       "<td>0.5205771</td>\n",
       "<td>0.5782976</td>\n",
       "<td>122.0</td></tr>\n",
       "<tr><td>max accuracy</td>\n",
       "<td>0.5205771</td>\n",
       "<td>0.8193548</td>\n",
       "<td>122.0</td></tr>\n",
       "<tr><td>max precision</td>\n",
       "<td>0.9845936</td>\n",
       "<td>1.0</td>\n",
       "<td>0.0</td></tr>\n",
       "<tr><td>max recall</td>\n",
       "<td>0.0050206</td>\n",
       "<td>1.0</td>\n",
       "<td>399.0</td></tr>\n",
       "<tr><td>max specificity</td>\n",
       "<td>0.9845936</td>\n",
       "<td>1.0</td>\n",
       "<td>0.0</td></tr>\n",
       "<tr><td>max absolute_mcc</td>\n",
       "<td>0.3745693</td>\n",
       "<td>0.4187666</td>\n",
       "<td>172.0</td></tr>\n",
       "<tr><td>max min_per_class_accuracy</td>\n",
       "<td>0.1963701</td>\n",
       "<td>0.7067594</td>\n",
       "<td>258.0</td></tr>\n",
       "<tr><td>max mean_per_class_accuracy</td>\n",
       "<td>0.2469366</td>\n",
       "<td>0.7175658</td>\n",
       "<td>228.0</td></tr></table></div>"
      ],
      "text/plain": [
       "metric                       threshold    value     idx\n",
       "---------------------------  -----------  --------  -----\n",
       "max f1                       0.246937     0.545455  228\n",
       "max f2                       0.132196     0.638346  307\n",
       "max f0point5                 0.520577     0.578298  122\n",
       "max accuracy                 0.520577     0.819355  122\n",
       "max precision                0.984594     1         0\n",
       "max recall                   0.0050206    1         399\n",
       "max specificity              0.984594     1         0\n",
       "max absolute_mcc             0.374569     0.418767  172\n",
       "max min_per_class_accuracy   0.19637      0.706759  258\n",
       "max mean_per_class_accuracy  0.246937     0.717566  228"
      ]
     },
     "metadata": {},
     "output_type": "display_data"
    },
    {
     "name": "stdout",
     "output_type": "stream",
     "text": [
      "Gains/Lift Table: Avg response rate: 22.38 %, avg score: 22.57 %\n",
      "\n"
     ]
    },
    {
     "data": {
      "text/html": [
       "<div style=\"overflow:auto\"><table style=\"width:50%\"><tr><td><b></b></td>\n",
       "<td><b>group</b></td>\n",
       "<td><b>cumulative_data_fraction</b></td>\n",
       "<td><b>lower_threshold</b></td>\n",
       "<td><b>lift</b></td>\n",
       "<td><b>cumulative_lift</b></td>\n",
       "<td><b>response_rate</b></td>\n",
       "<td><b>score</b></td>\n",
       "<td><b>cumulative_response_rate</b></td>\n",
       "<td><b>cumulative_score</b></td>\n",
       "<td><b>capture_rate</b></td>\n",
       "<td><b>cumulative_capture_rate</b></td>\n",
       "<td><b>gain</b></td>\n",
       "<td><b>cumulative_gain</b></td></tr>\n",
       "<tr><td></td>\n",
       "<td>1</td>\n",
       "<td>0.0100111</td>\n",
       "<td>0.8420370</td>\n",
       "<td>3.6738458</td>\n",
       "<td>3.6738458</td>\n",
       "<td>0.8222222</td>\n",
       "<td>0.8934532</td>\n",
       "<td>0.8222222</td>\n",
       "<td>0.8934532</td>\n",
       "<td>0.0367793</td>\n",
       "<td>0.0367793</td>\n",
       "<td>267.3845814</td>\n",
       "<td>267.3845814</td></tr>\n",
       "<tr><td></td>\n",
       "<td>2</td>\n",
       "<td>0.0200222</td>\n",
       "<td>0.7937026</td>\n",
       "<td>3.2766733</td>\n",
       "<td>3.4752596</td>\n",
       "<td>0.7333333</td>\n",
       "<td>0.8171823</td>\n",
       "<td>0.7777778</td>\n",
       "<td>0.8553178</td>\n",
       "<td>0.0328032</td>\n",
       "<td>0.0695825</td>\n",
       "<td>227.6673294</td>\n",
       "<td>247.5259554</td></tr>\n",
       "<tr><td></td>\n",
       "<td>3</td>\n",
       "<td>0.0300334</td>\n",
       "<td>0.7496973</td>\n",
       "<td>3.2766733</td>\n",
       "<td>3.4090641</td>\n",
       "<td>0.7333333</td>\n",
       "<td>0.7692407</td>\n",
       "<td>0.7629630</td>\n",
       "<td>0.8266254</td>\n",
       "<td>0.0328032</td>\n",
       "<td>0.1023857</td>\n",
       "<td>227.6673294</td>\n",
       "<td>240.9064134</td></tr>\n",
       "<tr><td></td>\n",
       "<td>4</td>\n",
       "<td>0.0400445</td>\n",
       "<td>0.7201600</td>\n",
       "<td>2.8795008</td>\n",
       "<td>3.2766733</td>\n",
       "<td>0.6444444</td>\n",
       "<td>0.7346227</td>\n",
       "<td>0.7333333</td>\n",
       "<td>0.8036247</td>\n",
       "<td>0.0288270</td>\n",
       "<td>0.1312127</td>\n",
       "<td>187.9500773</td>\n",
       "<td>227.6673294</td></tr>\n",
       "<tr><td></td>\n",
       "<td>5</td>\n",
       "<td>0.0500556</td>\n",
       "<td>0.6952543</td>\n",
       "<td>3.4752596</td>\n",
       "<td>3.3163905</td>\n",
       "<td>0.7777778</td>\n",
       "<td>0.7077457</td>\n",
       "<td>0.7422222</td>\n",
       "<td>0.7844489</td>\n",
       "<td>0.0347913</td>\n",
       "<td>0.1660040</td>\n",
       "<td>247.5259554</td>\n",
       "<td>231.6390546</td></tr>\n",
       "<tr><td></td>\n",
       "<td>6</td>\n",
       "<td>0.1001112</td>\n",
       "<td>0.5534827</td>\n",
       "<td>2.9787939</td>\n",
       "<td>3.1475922</td>\n",
       "<td>0.6666667</td>\n",
       "<td>0.6255137</td>\n",
       "<td>0.7044444</td>\n",
       "<td>0.7049813</td>\n",
       "<td>0.1491054</td>\n",
       "<td>0.3151093</td>\n",
       "<td>197.8793903</td>\n",
       "<td>214.7592224</td></tr>\n",
       "<tr><td></td>\n",
       "<td>7</td>\n",
       "<td>0.1501669</td>\n",
       "<td>0.4397946</td>\n",
       "<td>2.0454385</td>\n",
       "<td>2.7802076</td>\n",
       "<td>0.4577778</td>\n",
       "<td>0.4933865</td>\n",
       "<td>0.6222222</td>\n",
       "<td>0.6344497</td>\n",
       "<td>0.1023857</td>\n",
       "<td>0.4174950</td>\n",
       "<td>104.5438480</td>\n",
       "<td>178.0207643</td></tr>\n",
       "<tr><td></td>\n",
       "<td>8</td>\n",
       "<td>0.2</td>\n",
       "<td>0.3520013</td>\n",
       "<td>1.8351498</td>\n",
       "<td>2.5447316</td>\n",
       "<td>0.4107143</td>\n",
       "<td>0.3942992</td>\n",
       "<td>0.5695217</td>\n",
       "<td>0.5746124</td>\n",
       "<td>0.0914513</td>\n",
       "<td>0.5089463</td>\n",
       "<td>83.5149815</td>\n",
       "<td>154.4731610</td></tr>\n",
       "<tr><td></td>\n",
       "<td>9</td>\n",
       "<td>0.3001112</td>\n",
       "<td>0.2445941</td>\n",
       "<td>1.2610228</td>\n",
       "<td>2.1165115</td>\n",
       "<td>0.2822222</td>\n",
       "<td>0.2883020</td>\n",
       "<td>0.4736842</td>\n",
       "<td>0.4791049</td>\n",
       "<td>0.1262425</td>\n",
       "<td>0.6351889</td>\n",
       "<td>26.1022752</td>\n",
       "<td>111.6511458</td></tr>\n",
       "<tr><td></td>\n",
       "<td>10</td>\n",
       "<td>0.4</td>\n",
       "<td>0.1899007</td>\n",
       "<td>0.8259685</td>\n",
       "<td>1.7942346</td>\n",
       "<td>0.1848552</td>\n",
       "<td>0.2127184</td>\n",
       "<td>0.4015573</td>\n",
       "<td>0.4125823</td>\n",
       "<td>0.0825050</td>\n",
       "<td>0.7176938</td>\n",
       "<td>-17.4031535</td>\n",
       "<td>79.4234592</td></tr>\n",
       "<tr><td></td>\n",
       "<td>11</td>\n",
       "<td>0.5001112</td>\n",
       "<td>0.1527030</td>\n",
       "<td>0.7744864</td>\n",
       "<td>1.5901035</td>\n",
       "<td>0.1733333</td>\n",
       "<td>0.1706174</td>\n",
       "<td>0.3558719</td>\n",
       "<td>0.3641463</td>\n",
       "<td>0.0775348</td>\n",
       "<td>0.7952286</td>\n",
       "<td>-22.5513585</td>\n",
       "<td>59.0103507</td></tr>\n",
       "<tr><td></td>\n",
       "<td>12</td>\n",
       "<td>0.6</td>\n",
       "<td>0.1241017</td>\n",
       "<td>0.5473285</td>\n",
       "<td>1.4165010</td>\n",
       "<td>0.1224944</td>\n",
       "<td>0.1380282</td>\n",
       "<td>0.3170189</td>\n",
       "<td>0.3265019</td>\n",
       "<td>0.0546720</td>\n",
       "<td>0.8499006</td>\n",
       "<td>-45.2671499</td>\n",
       "<td>41.6500994</td></tr>\n",
       "<tr><td></td>\n",
       "<td>13</td>\n",
       "<td>0.6998888</td>\n",
       "<td>0.0976576</td>\n",
       "<td>0.5871342</td>\n",
       "<td>1.2981330</td>\n",
       "<td>0.1314031</td>\n",
       "<td>0.1110061</td>\n",
       "<td>0.2905277</td>\n",
       "<td>0.2957461</td>\n",
       "<td>0.0586481</td>\n",
       "<td>0.9085487</td>\n",
       "<td>-41.2865790</td>\n",
       "<td>29.8133007</td></tr>\n",
       "<tr><td></td>\n",
       "<td>14</td>\n",
       "<td>0.8</td>\n",
       "<td>0.0741354</td>\n",
       "<td>0.4269605</td>\n",
       "<td>1.1891153</td>\n",
       "<td>0.0955556</td>\n",
       "<td>0.0868980</td>\n",
       "<td>0.2661290</td>\n",
       "<td>0.2696111</td>\n",
       "<td>0.0427435</td>\n",
       "<td>0.9512922</td>\n",
       "<td>-57.3039541</td>\n",
       "<td>18.9115308</td></tr>\n",
       "<tr><td></td>\n",
       "<td>15</td>\n",
       "<td>0.8998888</td>\n",
       "<td>0.0521298</td>\n",
       "<td>0.2885914</td>\n",
       "<td>1.0891560</td>\n",
       "<td>0.0645880</td>\n",
       "<td>0.0635053</td>\n",
       "<td>0.2437577</td>\n",
       "<td>0.2467331</td>\n",
       "<td>0.0288270</td>\n",
       "<td>0.9801193</td>\n",
       "<td>-71.1408608</td>\n",
       "<td>8.9156040</td></tr>\n",
       "<tr><td></td>\n",
       "<td>16</td>\n",
       "<td>1.0</td>\n",
       "<td>0.0034412</td>\n",
       "<td>0.1985863</td>\n",
       "<td>1.0</td>\n",
       "<td>0.0444444</td>\n",
       "<td>0.0366879</td>\n",
       "<td>0.2238042</td>\n",
       "<td>0.2257052</td>\n",
       "<td>0.0198807</td>\n",
       "<td>1.0</td>\n",
       "<td>-80.1413740</td>\n",
       "<td>0.0</td></tr></table></div>"
      ],
      "text/plain": [
       "    group    cumulative_data_fraction    lower_threshold    lift      cumulative_lift    response_rate    score      cumulative_response_rate    cumulative_score    capture_rate    cumulative_capture_rate    gain      cumulative_gain\n",
       "--  -------  --------------------------  -----------------  --------  -----------------  ---------------  ---------  --------------------------  ------------------  --------------  -------------------------  --------  -----------------\n",
       "    1        0.0100111                   0.842037           3.67385   3.67385            0.822222         0.893453   0.822222                    0.893453            0.0367793       0.0367793                  267.385   267.385\n",
       "    2        0.0200222                   0.793703           3.27667   3.47526            0.733333         0.817182   0.777778                    0.855318            0.0328032       0.0695825                  227.667   247.526\n",
       "    3        0.0300334                   0.749697           3.27667   3.40906            0.733333         0.769241   0.762963                    0.826625            0.0328032       0.102386                   227.667   240.906\n",
       "    4        0.0400445                   0.72016            2.8795    3.27667            0.644444         0.734623   0.733333                    0.803625            0.028827        0.131213                   187.95    227.667\n",
       "    5        0.0500556                   0.695254           3.47526   3.31639            0.777778         0.707746   0.742222                    0.784449            0.0347913       0.166004                   247.526   231.639\n",
       "    6        0.100111                    0.553483           2.97879   3.14759            0.666667         0.625514   0.704444                    0.704981            0.149105        0.315109                   197.879   214.759\n",
       "    7        0.150167                    0.439795           2.04544   2.78021            0.457778         0.493387   0.622222                    0.63445             0.102386        0.417495                   104.544   178.021\n",
       "    8        0.2                         0.352001           1.83515   2.54473            0.410714         0.394299   0.569522                    0.574612            0.0914513       0.508946                   83.515    154.473\n",
       "    9        0.300111                    0.244594           1.26102   2.11651            0.282222         0.288302   0.473684                    0.479105            0.126243        0.635189                   26.1023   111.651\n",
       "    10       0.4                         0.189901           0.825968  1.79423            0.184855         0.212718   0.401557                    0.412582            0.082505        0.717694                   -17.4032  79.4235\n",
       "    11       0.500111                    0.152703           0.774486  1.5901             0.173333         0.170617   0.355872                    0.364146            0.0775348       0.795229                   -22.5514  59.0104\n",
       "    12       0.6                         0.124102           0.547329  1.4165             0.122494         0.138028   0.317019                    0.326502            0.054672        0.849901                   -45.2671  41.6501\n",
       "    13       0.699889                    0.0976576          0.587134  1.29813            0.131403         0.111006   0.290528                    0.295746            0.0586481       0.908549                   -41.2866  29.8133\n",
       "    14       0.8                         0.0741354          0.42696   1.18912            0.0955556        0.086898   0.266129                    0.269611            0.0427435       0.951292                   -57.304   18.9115\n",
       "    15       0.899889                    0.0521298          0.288591  1.08916            0.064588         0.0635053  0.243758                    0.246733            0.028827        0.980119                   -71.1409  8.9156\n",
       "    16       1                           0.00344118         0.198586  1                  0.0444444        0.0366879  0.223804                    0.225705            0.0198807       1                          -80.1414  0"
      ]
     },
     "metadata": {},
     "output_type": "display_data"
    },
    {
     "name": "stdout",
     "output_type": "stream",
     "text": [
      "\n",
      "\n"
     ]
    }
   ],
   "source": [
    "#Model Performance\n",
    "rf_performance = rf_fit1.model_performance(test)\n",
    "print(rf_performance)"
   ]
  },
  {
   "cell_type": "code",
   "execution_count": null,
   "metadata": {},
   "outputs": [],
   "source": [
    "#Test set AUC\n",
    "print(rf_performance.auc)"
   ]
  },
  {
   "cell_type": "code",
   "execution_count": 14,
   "metadata": {
    "scrolled": true
   },
   "outputs": [
    {
     "name": "stdout",
     "output_type": "stream",
     "text": [
      "AutoML progress: |████ (cancelled)\n"
     ]
    },
    {
     "ename": "H2OJobCancelled",
     "evalue": "Job<$03017f00000132d4ffffffff$_94e14c9588591de169b76c91c3bd4dd1> was cancelled by the user.",
     "output_type": "error",
     "traceback": [
      "\u001b[0;31m---------------------------------------------------------------------------\u001b[0m",
      "\u001b[0;31mH2OJobCancelled\u001b[0m                           Traceback (most recent call last)",
      "\u001b[0;32m<ipython-input-14-131a5dfa22dc>\u001b[0m in \u001b[0;36m<module>\u001b[0;34m\u001b[0m\n\u001b[1;32m      1\u001b[0m \u001b[0;32mfrom\u001b[0m \u001b[0mh2o\u001b[0m\u001b[0;34m.\u001b[0m\u001b[0mautoml\u001b[0m \u001b[0;32mimport\u001b[0m \u001b[0mH2OAutoML\u001b[0m\u001b[0;34m\u001b[0m\u001b[0;34m\u001b[0m\u001b[0m\n\u001b[1;32m      2\u001b[0m \u001b[0maml\u001b[0m \u001b[0;34m=\u001b[0m \u001b[0mH2OAutoML\u001b[0m\u001b[0;34m(\u001b[0m\u001b[0mmax_models\u001b[0m\u001b[0;34m=\u001b[0m\u001b[0;36m5\u001b[0m\u001b[0;34m,\u001b[0m \u001b[0mmax_runtime_secs\u001b[0m\u001b[0;34m=\u001b[0m\u001b[0;36m300\u001b[0m\u001b[0;34m,\u001b[0m \u001b[0mseed\u001b[0m \u001b[0;34m=\u001b[0m \u001b[0;36m1\u001b[0m\u001b[0;34m)\u001b[0m\u001b[0;34m\u001b[0m\u001b[0;34m\u001b[0m\u001b[0m\n\u001b[0;32m----> 3\u001b[0;31m \u001b[0maml\u001b[0m\u001b[0;34m.\u001b[0m\u001b[0mtrain\u001b[0m\u001b[0;34m(\u001b[0m\u001b[0mx\u001b[0m \u001b[0;34m=\u001b[0m \u001b[0mx\u001b[0m\u001b[0;34m,\u001b[0m \u001b[0my\u001b[0m \u001b[0;34m=\u001b[0m \u001b[0my\u001b[0m\u001b[0;34m,\u001b[0m \u001b[0mtraining_frame\u001b[0m \u001b[0;34m=\u001b[0m \u001b[0mtrain\u001b[0m\u001b[0;34m)\u001b[0m\u001b[0;34m\u001b[0m\u001b[0;34m\u001b[0m\u001b[0m\n\u001b[0m",
      "\u001b[0;32m~/anaconda3/lib/python3.7/site-packages/h2o/automl/autoh2o.py\u001b[0m in \u001b[0;36mtrain\u001b[0;34m(self, x, y, training_frame, fold_column, weights_column, validation_frame, leaderboard_frame, blending_frame)\u001b[0m\n\u001b[1;32m    409\u001b[0m \u001b[0;34m\u001b[0m\u001b[0m\n\u001b[1;32m    410\u001b[0m         \u001b[0mself\u001b[0m\u001b[0;34m.\u001b[0m\u001b[0m_job\u001b[0m \u001b[0;34m=\u001b[0m \u001b[0mH2OJob\u001b[0m\u001b[0;34m(\u001b[0m\u001b[0mresp\u001b[0m\u001b[0;34m[\u001b[0m\u001b[0;34m'job'\u001b[0m\u001b[0;34m]\u001b[0m\u001b[0;34m,\u001b[0m \u001b[0;34m\"AutoML\"\u001b[0m\u001b[0;34m)\u001b[0m\u001b[0;34m\u001b[0m\u001b[0;34m\u001b[0m\u001b[0m\n\u001b[0;32m--> 411\u001b[0;31m         \u001b[0mself\u001b[0m\u001b[0;34m.\u001b[0m\u001b[0m_job\u001b[0m\u001b[0;34m.\u001b[0m\u001b[0mpoll\u001b[0m\u001b[0;34m(\u001b[0m\u001b[0;34m)\u001b[0m\u001b[0;34m\u001b[0m\u001b[0;34m\u001b[0m\u001b[0m\n\u001b[0m\u001b[1;32m    412\u001b[0m         \u001b[0mself\u001b[0m\u001b[0;34m.\u001b[0m\u001b[0m_fetch\u001b[0m\u001b[0;34m(\u001b[0m\u001b[0;34m)\u001b[0m\u001b[0;34m\u001b[0m\u001b[0;34m\u001b[0m\u001b[0m\n\u001b[1;32m    413\u001b[0m \u001b[0;34m\u001b[0m\u001b[0m\n",
      "\u001b[0;32m~/anaconda3/lib/python3.7/site-packages/h2o/job.py\u001b[0m in \u001b[0;36mpoll\u001b[0;34m(self, verbose_model_scoring_history)\u001b[0m\n\u001b[1;32m     71\u001b[0m         \u001b[0;31m# check if failed... and politely print relevant message\u001b[0m\u001b[0;34m\u001b[0m\u001b[0;34m\u001b[0m\u001b[0;34m\u001b[0m\u001b[0m\n\u001b[1;32m     72\u001b[0m         \u001b[0;32mif\u001b[0m \u001b[0mself\u001b[0m\u001b[0;34m.\u001b[0m\u001b[0mstatus\u001b[0m \u001b[0;34m==\u001b[0m \u001b[0;34m\"CANCELLED\"\u001b[0m\u001b[0;34m:\u001b[0m\u001b[0;34m\u001b[0m\u001b[0;34m\u001b[0m\u001b[0m\n\u001b[0;32m---> 73\u001b[0;31m             \u001b[0;32mraise\u001b[0m \u001b[0mH2OJobCancelled\u001b[0m\u001b[0;34m(\u001b[0m\u001b[0;34m\"Job<%s> was cancelled by the user.\"\u001b[0m \u001b[0;34m%\u001b[0m \u001b[0mself\u001b[0m\u001b[0;34m.\u001b[0m\u001b[0mjob_key\u001b[0m\u001b[0;34m)\u001b[0m\u001b[0;34m\u001b[0m\u001b[0;34m\u001b[0m\u001b[0m\n\u001b[0m\u001b[1;32m     74\u001b[0m         \u001b[0;32mif\u001b[0m \u001b[0mself\u001b[0m\u001b[0;34m.\u001b[0m\u001b[0mstatus\u001b[0m \u001b[0;34m==\u001b[0m \u001b[0;34m\"FAILED\"\u001b[0m\u001b[0;34m:\u001b[0m\u001b[0;34m\u001b[0m\u001b[0;34m\u001b[0m\u001b[0m\n\u001b[1;32m     75\u001b[0m             \u001b[0;32mif\u001b[0m \u001b[0;34m(\u001b[0m\u001b[0misinstance\u001b[0m\u001b[0;34m(\u001b[0m\u001b[0mself\u001b[0m\u001b[0;34m.\u001b[0m\u001b[0mjob\u001b[0m\u001b[0;34m,\u001b[0m \u001b[0mdict\u001b[0m\u001b[0;34m)\u001b[0m\u001b[0;34m)\u001b[0m \u001b[0;32mand\u001b[0m \u001b[0;34m(\u001b[0m\u001b[0;34m\"stacktrace\"\u001b[0m \u001b[0;32min\u001b[0m \u001b[0mlist\u001b[0m\u001b[0;34m(\u001b[0m\u001b[0mself\u001b[0m\u001b[0;34m.\u001b[0m\u001b[0mjob\u001b[0m\u001b[0;34m)\u001b[0m\u001b[0;34m)\u001b[0m\u001b[0;34m:\u001b[0m\u001b[0;34m\u001b[0m\u001b[0;34m\u001b[0m\u001b[0m\n",
      "\u001b[0;31mH2OJobCancelled\u001b[0m: Job<$03017f00000132d4ffffffff$_94e14c9588591de169b76c91c3bd4dd1> was cancelled by the user."
     ]
    }
   ],
   "source": [
    "from h2o.automl import H2OAutoML\n",
    "aml = H2OAutoML(max_models=5, max_runtime_secs=300, seed = 1)\n",
    "aml.train(x = x, y = y, training_frame = train)"
   ]
  },
  {
   "cell_type": "code",
   "execution_count": 23,
   "metadata": {},
   "outputs": [
    {
     "data": {
      "text/html": [
       "<table>\n",
       "<thead>\n",
       "<tr><th>model_id                                           </th><th style=\"text-align: right;\">  mean_residual_deviance</th><th style=\"text-align: right;\">    rmse</th><th style=\"text-align: right;\">     mse</th><th style=\"text-align: right;\">     mae</th><th style=\"text-align: right;\">     rmsle</th></tr>\n",
       "</thead>\n",
       "<tbody>\n",
       "<tr><td>StackedEnsemble_BestOfFamily_AutoML_20190611_214035</td><td style=\"text-align: right;\">                0.134256</td><td style=\"text-align: right;\">0.36641 </td><td style=\"text-align: right;\">0.134256</td><td style=\"text-align: right;\">0.268523</td><td style=\"text-align: right;\">  0.256642</td></tr>\n",
       "<tr><td>XGBoost_3_AutoML_20190611_214035                   </td><td style=\"text-align: right;\">                0.134571</td><td style=\"text-align: right;\">0.366839</td><td style=\"text-align: right;\">0.134571</td><td style=\"text-align: right;\">0.279753</td><td style=\"text-align: right;\">  0.258127</td></tr>\n",
       "<tr><td>StackedEnsemble_AllModels_AutoML_20190611_213358   </td><td style=\"text-align: right;\">                0.135979</td><td style=\"text-align: right;\">0.368753</td><td style=\"text-align: right;\">0.135979</td><td style=\"text-align: right;\">0.27199 </td><td style=\"text-align: right;\">  0.258637</td></tr>\n",
       "<tr><td>StackedEnsemble_BestOfFamily_AutoML_20190611_213358</td><td style=\"text-align: right;\">                0.136385</td><td style=\"text-align: right;\">0.369303</td><td style=\"text-align: right;\">0.136385</td><td style=\"text-align: right;\">0.272849</td><td style=\"text-align: right;\">  0.258957</td></tr>\n",
       "<tr><td>XGBoost_1_AutoML_20190611_213358                   </td><td style=\"text-align: right;\">                0.136546</td><td style=\"text-align: right;\">0.369522</td><td style=\"text-align: right;\">0.136546</td><td style=\"text-align: right;\">0.270374</td><td style=\"text-align: right;\">  0.259801</td></tr>\n",
       "<tr><td>XGBoost_1_AutoML_20190611_214035                   </td><td style=\"text-align: right;\">                0.136546</td><td style=\"text-align: right;\">0.369522</td><td style=\"text-align: right;\">0.136546</td><td style=\"text-align: right;\">0.270374</td><td style=\"text-align: right;\">  0.259801</td></tr>\n",
       "<tr><td>XGBoost_2_AutoML_20190611_214035                   </td><td style=\"text-align: right;\">                0.138715</td><td style=\"text-align: right;\">0.372445</td><td style=\"text-align: right;\">0.138715</td><td style=\"text-align: right;\">0.278671</td><td style=\"text-align: right;\">  0.263667</td></tr>\n",
       "<tr><td>XGBoost_2_AutoML_20190611_213358                   </td><td style=\"text-align: right;\">                0.138715</td><td style=\"text-align: right;\">0.372445</td><td style=\"text-align: right;\">0.138715</td><td style=\"text-align: right;\">0.278671</td><td style=\"text-align: right;\">  0.263667</td></tr>\n",
       "<tr><td>DRF_1_AutoML_20190611_214035                       </td><td style=\"text-align: right;\">                0.142249</td><td style=\"text-align: right;\">0.377159</td><td style=\"text-align: right;\">0.142249</td><td style=\"text-align: right;\">0.273744</td><td style=\"text-align: right;\">  0.266508</td></tr>\n",
       "<tr><td>GLM_grid_1_AutoML_20190611_214035_model_1          </td><td style=\"text-align: right;\">                0.151622</td><td style=\"text-align: right;\">0.389387</td><td style=\"text-align: right;\">0.151622</td><td style=\"text-align: right;\">0.308497</td><td style=\"text-align: right;\">nan       </td></tr>\n",
       "</tbody>\n",
       "</table>"
      ]
     },
     "metadata": {},
     "output_type": "display_data"
    },
    {
     "data": {
      "text/plain": []
     },
     "execution_count": 23,
     "metadata": {},
     "output_type": "execute_result"
    }
   ],
   "source": [
    "lb = aml.leaderboard\n",
    "lb.head()"
   ]
  }
 ],
 "metadata": {
  "kernelspec": {
   "display_name": "Python 3",
   "language": "python",
   "name": "python3"
  },
  "language_info": {
   "codemirror_mode": {
    "name": "ipython",
    "version": 3
   },
   "file_extension": ".py",
   "mimetype": "text/x-python",
   "name": "python",
   "nbconvert_exporter": "python",
   "pygments_lexer": "ipython3",
   "version": "3.7.1"
  }
 },
 "nbformat": 4,
 "nbformat_minor": 2
}
