{
  "nbformat": 4,
  "nbformat_minor": 0,
  "metadata": {
    "colab": {
      "name": "Cheat Sheet.ipynb",
      "version": "0.3.2",
      "provenance": [],
      "include_colab_link": true
    },
    "kernelspec": {
      "name": "python3",
      "display_name": "Python 3"
    }
  },
  "cells": [
    {
      "cell_type": "markdown",
      "metadata": {
        "id": "view-in-github",
        "colab_type": "text"
      },
      "source": [
        "<a href=\"https://colab.research.google.com/github/elyselee/Launch-Bootcamp-/blob/master/Cheat_Sheet.ipynb\" target=\"_parent\"><img src=\"https://colab.research.google.com/assets/colab-badge.svg\" alt=\"Open In Colab\"/></a>"
      ]
    },
    {
      "cell_type": "code",
      "metadata": {
        "id": "qCGk5ZjAkC7I",
        "colab_type": "code",
        "colab": {}
      },
      "source": [
        "#Label encoding categorical variables\n",
        "from sklearn.preprocessing import LabelEncoder\n",
        "labelencoder = LabelEncoder()\n",
        "banktrain['job'] = labelencoder.fit_transform(banktrain['job'].astype('str'))\n",
        "banktrain['marital']=labelencoder.fit_transform(banktrain['marital'].astype('str'))"
      ],
      "execution_count": 0,
      "outputs": []
    },
    {
      "cell_type": "code",
      "metadata": {
        "id": "xFwTxKSVkLuZ",
        "colab_type": "code",
        "colab": {}
      },
      "source": [
        "#Train test split\n",
        "from sklearn.model_selection import train_test_split\n",
        "X = banktrain.iloc[:,1:20].values\n",
        "y = banktrain.iloc[:,20].values\n",
        "x_train, x_test, y_train, y_test = train_test_split(X, y, test_size=0.2, random_state=0)\n"
      ],
      "execution_count": 0,
      "outputs": []
    },
    {
      "cell_type": "code",
      "metadata": {
        "id": "xjWJmJRIkRhT",
        "colab_type": "code",
        "colab": {}
      },
      "source": [
        "#Accuracy score\n",
        "from sklearn.linear_model import LogisticRegression\n",
        "lrmodel = LogisticRegression()\n",
        "lrmodel.fit(x_train,y_train)\n",
        "prediction2=lrmodel.predict(x_test)\n",
        "lr_acc=metrics.accuracy_score(prediction2, y_test)\n",
        "print(lr_acc)"
      ],
      "execution_count": 0,
      "outputs": []
    },
    {
      "cell_type": "code",
      "metadata": {
        "id": "4LgQtIfOkWSk",
        "colab_type": "code",
        "colab": {}
      },
      "source": [
        "from sklearn.model_selection import KFold #for K-fold cross validation\n",
        "from sklearn.model_selection import cross_val_score #score evaluation\n",
        "from sklearn.model_selection import cross_val_predict #prediction\n"
      ],
      "execution_count": 0,
      "outputs": []
    },
    {
      "cell_type": "code",
      "metadata": {
        "id": "sa0OFO_nkX39",
        "colab_type": "code",
        "colab": {}
      },
      "source": [
        "#Linear Regression Cross Validation Score\n",
        "kfold = KFold(n_splits=10, random_state=1)\n",
        "lr_cv = cross_val_score(lrmodel,X,y, cv = kfold,scoring = \"accuracy\").mean()*100\n",
        "print(lr_cv)"
      ],
      "execution_count": 0,
      "outputs": []
    },
    {
      "cell_type": "code",
      "metadata": {
        "id": "aZM3UwMXkhRI",
        "colab_type": "code",
        "colab": {}
      },
      "source": [
        "#Logistic Regression Confusion Matrix\n",
        "from sklearn.metrics import confusion_matrix\n",
        "lry_pred = cross_val_predict(LogisticRegression(solver='newton-cg'),X,y,cv=10)\n",
        "sns.heatmap(confusion_matrix(y,lry_pred),annot=True, cmap='Blues')\n"
      ],
      "execution_count": 0,
      "outputs": []
    },
    {
      "cell_type": "code",
      "metadata": {
        "id": "7N45P4WQkpd-",
        "colab_type": "code",
        "colab": {}
      },
      "source": [
        "#Classification Report\n",
        "from sklearn.metrics import classification_report\n",
        "print(classification_report(y, lry_pred))"
      ],
      "execution_count": 0,
      "outputs": []
    },
    {
      "cell_type": "code",
      "metadata": {
        "id": "AsOAC6LFk0kv",
        "colab_type": "code",
        "colab": {}
      },
      "source": [
        "#Printing out a csv from colab\n",
        "lrmodel = LogisticRegression(solver='newton-cg',max_iter=500)\n",
        "lrmodel.fit(x_train, y_train)\n",
        "y_pred5 = lrmodel.predict(Xtest)\n",
        "print(y_pred5)\n",
        "\n",
        "submission = pd.concat([banktest.id, pd.Series(y_pred5)], axis = 1)\n",
        "submission.columns = ['id', 'Predicted']\n",
        "submission.to_csv('submission.csv', index=False)\n",
        "\n",
        "from google.colab import files\n",
        "files.download(\"submission.csv\")"
      ],
      "execution_count": 0,
      "outputs": []
    }
  ]
}